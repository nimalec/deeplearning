{
  "nbformat": 4,
  "nbformat_minor": 0,
  "metadata": {
    "colab": {
      "name": "leclerc_nima_hw4_prob1.ipynb",
      "provenance": [],
      "collapsed_sections": []
    },
    "kernelspec": {
      "name": "python3",
      "display_name": "Python 3"
    }
  },
  "cells": [
    {
      "cell_type": "code",
      "metadata": {
        "id": "a9LJFb4k6bEt"
      },
      "source": [
        "import numpy as np \n",
        "import tensorflow \n",
        "from tensorflow.keras.datasets import mnist\n",
        "import matplotlib.pyplot as plt\n",
        "import cv2"
      ],
      "execution_count": 1,
      "outputs": []
    },
    {
      "cell_type": "markdown",
      "metadata": {
        "id": "kPkwW2yfFGh7"
      },
      "source": [
        "(a) We will use the MNIST dataset for tranining and testing here. "
      ]
    },
    {
      "cell_type": "code",
      "metadata": {
        "id": "rAvtHoCT8VhG",
        "outputId": "9542aa67-3394-4c6f-c577-4f27765c84c6",
        "colab": {
          "base_uri": "https://localhost:8080/"
        }
      },
      "source": [
        "(X_train, Y_train), (X_test, Y_test) = mnist.load_data() \n",
        "train_idx_0 = np.argwhere(Y_train==0)\n",
        "train_idx_1 = np.argwhere(Y_train==1)\n",
        "test_idx_0 = np.argwhere(Y_test==0)\n",
        "test_idx_1 = np.argwhere(Y_test==1)\n",
        "x_train = [] \n",
        "y_train = [] \n",
        "x_test = [] \n",
        "y_test = [] \n",
        "for i in range(len(train_idx_0)):\n",
        "  idx = train_idx_0[i][0]\n",
        "  temp = cv2.resize(X_train[idx], (14,14))\n",
        "  x_train.append(temp.flatten())\n",
        "  y_train.append(Y_train[idx])\n",
        "\n",
        "for i in range(len(train_idx_1)):\n",
        "  idx = train_idx_1[i][0]\n",
        "  temp = cv2.resize(X_train[idx], (14,14))\n",
        "  x_train.append(temp.flatten())\n",
        "  y_train.append(Y_train[idx])\n",
        "\n",
        "for i in range(len(test_idx_0)):\n",
        "  idx = test_idx_0[i][0]\n",
        "  temp = cv2.resize(X_test[idx], (14,14))\n",
        "  x_test.append(temp.flatten())\n",
        "  y_test.append(Y_test[idx])\n",
        "\n",
        "for i in range(len(test_idx_1)):\n",
        "  idx = test_idx_1[i][0]\n",
        "  temp = cv2.resize(X_test[idx], (14,14))\n",
        "  x_test.append(temp.flatten())\n",
        "  y_test.append(Y_test[idx])\n",
        "\n",
        "x_train = np.array(x_train)\n",
        "y_train = np.array(y_train)\n",
        "x_test = np.array(x_test)\n",
        "y_test = np.array(y_test)\n",
        "idx_train=np.array(range(len(y_train)))\n",
        "idx_test=np.array(range(len(y_test)))\n",
        "np.random.shuffle(idx_train)\n",
        "np.random.shuffle(idx_test)\n",
        "x_tr = []\n",
        "x_te = []\n",
        "y_tr = []\n",
        "y_te = []\n",
        "for i in range(len(idx_train)):\n",
        "  x_tr.append(x_train[idx_train[i]].flatten())\n",
        "  y_tr.append(y_train[idx_train[i]])\n",
        "for i in range(len(idx_test)):\n",
        "  x_te.append(x_test[idx_test[i]].flatten())\n",
        "  y_te.append(y_test[idx_test[i]])\n",
        "x_tr = np.nan_to_num(np.array(x_tr)/np.sum(x_tr,axis=0)) \n",
        "x_te = np.nan_to_num(np.array(x_te)/np.sum(x_tr,axis=0)) \n",
        "y_tr = np.array(y_tr)\n",
        "y_te = np.array(y_te)\n",
        "y_train = [] \n",
        "y_test = [] \n",
        "for i in range(len(y_tr)): \n",
        "  if y_tr[i] == 1:\n",
        "    y_train.append(-1)\n",
        "  else:\n",
        "     y_train.append(1)\n",
        "\n",
        "for i in range(len(y_te)): \n",
        "  if y_te[i] == 1:\n",
        "    y_test.append(-1)\n",
        "  else:\n",
        "     y_test.append(1)\n",
        "y_tr = np.array(y_train)\n",
        "y_te = np.array(y_test)"
      ],
      "execution_count": 2,
      "outputs": [
        {
          "output_type": "stream",
          "text": [
            "Downloading data from https://storage.googleapis.com/tensorflow/tf-keras-datasets/mnist.npz\n",
            "11493376/11490434 [==============================] - 0s 0us/step\n"
          ],
          "name": "stdout"
        },
        {
          "output_type": "stream",
          "text": [
            "/usr/local/lib/python3.6/dist-packages/ipykernel_launcher.py:52: RuntimeWarning: invalid value encountered in true_divide\n",
            "/usr/local/lib/python3.6/dist-packages/ipykernel_launcher.py:53: RuntimeWarning: invalid value encountered in true_divide\n"
          ],
          "name": "stderr"
        }
      ]
    },
    {
      "cell_type": "markdown",
      "metadata": {
        "id": "o9juecrvjvwo"
      },
      "source": [
        "(b) "
      ]
    },
    {
      "cell_type": "markdown",
      "metadata": {
        "id": "4nSpufeIx04Q"
      },
      "source": [
        "Funtion grad_h implements the gradient for logistic regression. Function train_gd trains the model with a gradient descent algorithm. Function loss computes the logistic loss. "
      ]
    },
    {
      "cell_type": "code",
      "metadata": {
        "id": "fgHCDBTYjw81"
      },
      "source": [
        "def grad_h(w,x,y,lam,w0): \n",
        "  ##Paramaters: \n",
        "  # w: weight matrix (cxd array)\n",
        "  # x: data matrix (nxd array)\n",
        "  # y: true label array (nx1 array)\n",
        "  # lam: regularization constant (constant)\n",
        "  # w0: bias matrix (cxn array)\n",
        "  #Output: grad (cxd array)\n",
        "  n = np.shape(x)[0]\n",
        "  grad = -(1/n)*np.matmul(x.T,((y*(np.exp(-y*(np.matmul(w,x.T)+w0)))).T) /(np.exp(-y*(np.matmul(w,x.T)+w0))+1).T)+lam*w.T\n",
        "  return grad.T \n",
        "\n",
        "def train_gd(x_tr, y_tr, lam, lr, n_iter, w0=0,w_0 = None):\n",
        "  ##Paramaters: \n",
        "  # x_tr: data matrix (nxd array)\n",
        "  # y_tr: true label array (nx1 array)\n",
        "  # lam: regularization constant (constant)\n",
        "  # lr: learning rate \n",
        "  # n_iter: number of iteration steps \n",
        "  # w0: bias matrix (cxn array)\n",
        "  #Output: grad (cxd array)\n",
        "  c = 2   \n",
        "  d = np.shape(x_tr)[1]\n",
        "  w = w_0 or np.random.rand(c,d)\n",
        "  w_all = []\n",
        "  t = 0 \n",
        "  while t <= n_iter: \n",
        "    w = w - lr*grad_h(w,x_tr,y_tr,lam,w0)\n",
        "    w_all.append(w)\n",
        "    t += 1 \n",
        "  return np.array(w_all) \n",
        "\n",
        "def loss(w, x, y, lam, w0=0):\n",
        "  ##Paramaters: \n",
        "  # x_tr: data matrix (nxd array)\n",
        "  # y_tr: true label array (nx1 array)\n",
        "  # lam: regularization constant (constant)\n",
        "  # lr: learning rate \n",
        "  # n_iter: number of iteration steps \n",
        "  # w0: bias matrix (cxn array)\n",
        "  #Output: grad (cxd array)\n",
        "  l1 = np.sum(np.log(1 + np.exp(-y*(np.matmul(w,x.T)+w0))+1),axis=1)/np.shape(y_tr)[0] \n",
        "  l2 = (lam/2)*((np.linalg.norm(w)*np.linalg.norm(w)) + (np.linalg.norm(w0)*np.linalg.norm(w0)))\n",
        "  return l1 + l2\n",
        "\n",
        "def logit(w, x, w0=0):\n",
        "  ##Paramaters: \n",
        "  # x_tr: data matrix (nxd array)\n",
        "  # y_tr: true label array (nx1 array)\n",
        "  # lam: regularization constant (constant)\n",
        "  # lr: learning rate \n",
        "  # n_iter: number of iteration steps \n",
        "  # w0: bias matrix (cxn array)\n",
        "  #Output: grad (cxd array)\n",
        "  y_0 = 1 \n",
        "  y_1 = -1 \n",
        "  p = lambda x, y, w, w0: (np.exp(-y*(np.matmul(w,x.T)+w0))+1)**(-1)\n",
        "  prob = np.array([p(x,y_0,w,w0),p(x,y_1,w,w0)]) \n",
        "  idx = np.argmax(prob)\n",
        "  return idx \n"
      ],
      "execution_count": 3,
      "outputs": []
    },
    {
      "cell_type": "markdown",
      "metadata": {
        "id": "GVWrLbt2yM9b"
      },
      "source": [
        "Trained weights now produced. Regularization constant varied, learning rate set to 0.01, trained over 50 time-steps."
      ]
    },
    {
      "cell_type": "code",
      "metadata": {
        "id": "kHFuO5rqSggy"
      },
      "source": [
        "lambdas = [1,10,20,30,40,50,70] ##regularization parameter \n",
        "w_d = 0.01 ##learning rate \n",
        "T_max = 50  #max iterations \n",
        "w_all_1 = train_gd(x_tr, y_tr, lambdas[0], w_d, T_max)\n",
        "w_all_2 = train_gd(x_tr, y_tr, lambdas[1], w_d, T_max)\n",
        "w_all_3 = train_gd(x_tr, y_tr, lambdas[2], w_d, T_max)\n",
        "w_all_4 = train_gd(x_tr, y_tr, lambdas[3], w_d, T_max)\n",
        "w_all_5 = train_gd(x_tr, y_tr, lambdas[4], w_d, T_max)\n",
        "w_all_6 = train_gd(x_tr, y_tr, lambdas[5], w_d, T_max)\n",
        "w_all_7 = train_gd(x_tr, y_tr, lambdas[6], w_d, T_max)\n",
        "loss_tr_1 = [loss(w,x_tr, y_tr, lambdas[0])[0] for w in w_all_1]\n",
        "loss_tr_2 = [loss(w,x_tr, y_tr, lambdas[1])[0] for w in w_all_2]\n",
        "loss_tr_3 = [loss(w,x_tr, y_tr, lambdas[2])[0] for w in w_all_3]\n",
        "loss_tr_4 = [loss(w,x_tr, y_tr, lambdas[3])[0] for w in w_all_4]\n",
        "loss_tr_5 = [loss(w,x_tr, y_tr, lambdas[4])[0] for w in w_all_5]\n",
        "loss_tr_6 = [loss(w,x_tr, y_tr, lambdas[5])[0] for w in w_all_6]\n",
        "loss_tr_7 = [loss(w,x_tr, y_tr, lambdas[6])[0] for w in w_all_7]"
      ],
      "execution_count": 16,
      "outputs": []
    },
    {
      "cell_type": "code",
      "metadata": {
        "id": "3-ouMLljeeFD"
      },
      "source": [
        "import matplotlib.pyplot as plot"
      ],
      "execution_count": 4,
      "outputs": []
    },
    {
      "cell_type": "markdown",
      "metadata": {
        "id": "3Ko3FoRhya9h"
      },
      "source": [
        "Gradient descent training loss plotted over iteration number in semi-log scale. Shows initial linear drop, prior to convergence. "
      ]
    },
    {
      "cell_type": "code",
      "metadata": {
        "id": "jBdQQlzAdYS4",
        "outputId": "22f43b8b-96da-4dfa-d2c3-f49f3f52c0a4",
        "colab": {
          "base_uri": "https://localhost:8080/",
          "height": 279
        }
      },
      "source": [
        "t_rng = np.array(range(len(w_all_1))) \n",
        "plot.semilogy(t_rng, loss_tr_1)\n",
        "plot.semilogy(t_rng, loss_tr_2)\n",
        "plot.semilogy(t_rng, loss_tr_3)\n",
        "plot.semilogy(t_rng, loss_tr_4)\n",
        "plot.semilogy(t_rng, loss_tr_5)\n",
        "plot.semilogy(t_rng, loss_tr_6)\n",
        "plot.semilogy(t_rng, loss_tr_7)\n",
        "plot.legend(('$\\lambda = 1$','$\\lambda = 10$','$\\lambda = 20$','$\\lambda = 30$','$\\lambda = 40$','$\\lambda = 50$','$\\lambda = 70$') )\n",
        "plot.ylabel('Training loss [log-scale]')\n",
        "plot.xlabel('Iteration number')\n",
        "plot.show()"
      ],
      "execution_count": 17,
      "outputs": [
        {
          "output_type": "display_data",
          "data": {
            "image/png": "[encoded data removed]",
            "text/plain": [
              "<Figure size 432x288 with 1 Axes>"
            ]
          },
          "metadata": {
            "tags": [],
            "needs_background": "light"
          }
        }
      ]
    },
    {
      "cell_type": "markdown",
      "metadata": {
        "id": "IY2AXklxgTkN"
      },
      "source": [
        "From this, we can extract the slope for each loss function as done below (in log-scale).  \n",
        "\n",
        "---\n",
        "\n"
      ]
    },
    {
      "cell_type": "code",
      "metadata": {
        "id": "0734DLM9gpEN"
      },
      "source": [
        "fit_1 = z = np.polyfit(t_rng[0:20], np.log(loss_tr_1[0:20]), 1)\n",
        "fit_2 = z = np.polyfit(t_rng[0:20], np.log(loss_tr_2[0:20]), 1)\n",
        "fit_3 = z = np.polyfit(t_rng[0:20], np.log(loss_tr_3[0:20]), 1)\n",
        "fit_4 = z = np.polyfit(t_rng[0:20], np.log(loss_tr_4[0:20]), 1)\n",
        "fit_5 = z = np.polyfit(t_rng[0:20], np.log(loss_tr_5[0:20]), 1)\n",
        "fit_6 = z = np.polyfit(t_rng[0:20], np.log(loss_tr_6[0:20]), 1)\n",
        "fit_7 = z = np.polyfit(t_rng[0:20], np.log(loss_tr_7[0:20]), 1)"
      ],
      "execution_count": 33,
      "outputs": []
    },
    {
      "cell_type": "code",
      "metadata": {
        "id": "v-4Pqq-baS0h",
        "outputId": "28d8d0f2-fd44-4f6e-bb0f-34663a77df3d",
        "colab": {
          "base_uri": "https://localhost:8080/"
        }
      },
      "source": [
        "print(\"Lambda = 1:\"+\" \"+ str(fit_1[0]))\n",
        "print(\"Lambda = 10:\"+\" \"+ str(fit_2[0]))\n",
        "print(\"Lambda = 20:\"+\" \"+ str(fit_3[0]))\n",
        "print(\"Lambda = 30:\"+\" \"+ str(fit_4[0]))\n",
        "print(\"Lambda = 40:\"+\" \"+ str(fit_5[0]))\n",
        "print(\"Lambda = 50:\"+\" \"+ str(fit_6[0]))\n",
        "print(\"Lambda = 70:\"+\" \"+ str(fit_7[0]))"
      ],
      "execution_count": 34,
      "outputs": [
        {
          "output_type": "stream",
          "text": [
            "Lambda = 1: -0.3627126144418584\n",
            "Lambda = 10: -0.32493500921064666\n",
            "Lambda = 20: -0.28632341264873173\n",
            "Lambda = 30: -0.23825776673022214\n",
            "Lambda = 40: -0.18355566045275845\n",
            "Lambda = 50: -0.24397747754634574\n",
            "Lambda = 70: -0.14853363027772726\n"
          ],
          "name": "stdout"
        }
      ]
    },
    {
      "cell_type": "markdown",
      "metadata": {
        "id": "tgqI1u61yrNT"
      },
      "source": [
        "We find that that the optimal $\\lambda$ is $\\lambda = 10$. The loss function for larger $\\lambda$ begins to saturate. After $\\lambda = 50$, bias dominates due to regularization.  Hence, we will take $\\lambda = 10$ with a slope of -0.32, corresponding to a condition nubmer $\\kappa = 3.12$.   "
      ]
    },
    {
      "cell_type": "markdown",
      "metadata": {
        "id": "076pM_xHy7fo"
      },
      "source": [
        "(d) "
      ]
    },
    {
      "cell_type": "markdown",
      "metadata": {
        "id": "RXswSJxMka9a"
      },
      "source": [
        "The model is now trained using Nesterov's momentum. "
      ]
    },
    {
      "cell_type": "code",
      "metadata": {
        "id": "ccmuC7CBy7RB"
      },
      "source": [
        "def train_nest(x_tr, y_tr, rho, lam, lr, n_iter, w0=0,w_0 = None):  \n",
        "  ##Paramaters: \n",
        "  # x_tr: data matrix (nxd array)\n",
        "  # y_tr: true label array (nx1 array)\n",
        "  # rho: momentum parameter \n",
        "  # lam: regularization constant (constant)\n",
        "  # lr: learning rate \n",
        "  # n_iter: number of iteration steps \n",
        "  # w0: bias matrix (cxn array)\n",
        "  #Output: grad (cxd array)\n",
        "  \n",
        "  w_all = []\n",
        "  t = 0 \n",
        "  c = 2  \n",
        "  d = np.shape(x_tr)[1]\n",
        "  u =  w_0 or np.random.rand(c,d)\n",
        "  w =  w_0 or np.random.rand(c,d)\n",
        "  while t <= n_iter: \n",
        "    u_next = w - lr * grad_h(w,x_tr,y_tr,lam,w0)\n",
        "    w = (1 + rho) * u_next - rho * u\n",
        "    u = u_next\n",
        "    w_all.append(w)\n",
        "    t += 1 \n",
        "  return np.array(w_all)"
      ],
      "execution_count": 6,
      "outputs": []
    },
    {
      "cell_type": "markdown",
      "metadata": {
        "id": "tVPPldwjmWk2"
      },
      "source": [
        "We can now look at the trend in training loss for different momentum values (fixed at $\\lambda = 10$). Each value of $\\rho$ will correspond to a $\\kappa$. We will use $\\rho = 0.75, 0.8, 0.85, 0.9, 0.95$. "
      ]
    },
    {
      "cell_type": "code",
      "metadata": {
        "id": "kaSiCBJe0n0f"
      },
      "source": [
        "rho = [0.75, 0.8, 0.85, 0.9, 0.95] \n",
        "lam = 10 \n",
        "lr = 0.01\n",
        "T_max = 100\n",
        "w_all_1 = train_nest(x_tr, y_tr,rho[0],lam, lr, T_max)\n",
        "w_all_2 = train_nest(x_tr, y_tr,rho[1],lam, lr, T_max)\n",
        "w_all_3 = train_nest(x_tr, y_tr,rho[2],lam, lr, T_max)\n",
        "w_all_4 = train_nest(x_tr, y_tr,rho[3],lam, lr, T_max)\n",
        "w_all_5 = train_nest(x_tr, y_tr,rho[4],lam, lr, T_max)\n",
        "loss_tr_1 = [loss(w,x_tr, y_tr, lam)[0] for w in w_all_1]\n",
        "loss_tr_2 = [loss(w,x_tr, y_tr, lam)[0] for w in w_all_2]\n",
        "loss_tr_3 = [loss(w,x_tr, y_tr, lam)[0] for w in w_all_3]\n",
        "loss_tr_4 = [loss(w,x_tr, y_tr, lam)[0] for w in w_all_4]\n",
        "loss_tr_5 = [loss(w,x_tr, y_tr, lam)[0] for w in w_all_5]"
      ],
      "execution_count": 7,
      "outputs": []
    },
    {
      "cell_type": "code",
      "metadata": {
        "id": "Avtknftd2RJr",
        "outputId": "d2dd6b4a-579c-436f-c01c-22b61c72bd2e",
        "colab": {
          "base_uri": "https://localhost:8080/",
          "height": 279
        }
      },
      "source": [
        "t_rng = np.array(range(len( loss_tr_1))) \n",
        "plot.semilogy(t_rng, loss_tr_1)\n",
        "plot.semilogy(t_rng, loss_tr_2)\n",
        "plot.semilogy(t_rng, loss_tr_3)\n",
        "plot.semilogy(t_rng, loss_tr_4)\n",
        "plot.semilogy(t_rng, loss_tr_5)\n",
        "plot.legend(('$p = 0.75$','$p = 0.80$','$p = 0.85$','$p = 0.90$','$p = 0.95$') )\n",
        "plot.ylabel('Training loss [log-scale]')\n",
        "plot.xlabel('Iteration number')\n",
        "plot.show()"
      ],
      "execution_count": 8,
      "outputs": [
        {
          "output_type": "display_data",
          "data": {
            "image/png": "[encoded data removed]",
            "text/plain": [
              "<Figure size 432x288 with 1 Axes>"
            ]
          },
          "metadata": {
            "tags": [],
            "needs_background": "light"
          }
        }
      ]
    },
    {
      "cell_type": "code",
      "metadata": {
        "id": "j0xwhfRYCCoe",
        "outputId": "87bc3f2d-0d1a-4ac5-8aed-7470859cb81e",
        "colab": {
          "base_uri": "https://localhost:8080/"
        }
      },
      "source": [
        "fit_1 = z = np.polyfit(t_rng[0:20], np.log(loss_tr_1[0:20]), 1)\n",
        "fit_2 = z = np.polyfit(t_rng[0:20], np.log(loss_tr_2[0:20]), 1)\n",
        "fit_3 = z = np.polyfit(t_rng[0:20], np.log(loss_tr_3[0:20]), 1)\n",
        "fit_4 = z = np.polyfit(t_rng[0:20], np.log(loss_tr_4[0:20]), 1)\n",
        "fit_5 = z = np.polyfit(t_rng[0:20], np.log(loss_tr_5[0:20]), 1)\n",
        "print(\"Rho = 0.75:\"+\" \"+ str(fit_1[0]))\n",
        "print(\"Rho =  0.80:\"+\" \"+ str(fit_2[0]))\n",
        "print(\"Rho =  0.85:\"+\" \"+ str(fit_3[0]))\n",
        "print(\"Rho =  0.90:\"+\" \"+ str(fit_4[0]))\n",
        "print(\"Rho =  0.95:\"+\" \"+ str(fit_5[0]))"
      ],
      "execution_count": 9,
      "outputs": [
        {
          "output_type": "stream",
          "text": [
            "Rho = 0.75: -0.3617574003127884\n",
            "Rho =  0.80: -0.33092130482408494\n",
            "Rho =  0.85: -0.28744261485924083\n",
            "Rho =  0.90: -0.23418487772293983\n",
            "Rho =  0.95: -0.18258756419571312\n"
          ],
          "name": "stdout"
        }
      ]
    },
    {
      "cell_type": "markdown",
      "metadata": {
        "id": "N64x9cYG42f8"
      },
      "source": [
        "(e) "
      ]
    },
    {
      "cell_type": "code",
      "metadata": {
        "id": "Ai1AXnao4ivS"
      },
      "source": [
        "def train_sgd_minibatch(x_tr, y_tr, B, lam, lr, n_iter, w0=0,w_0 =None):\n",
        "  ##Paramaters: \n",
        "  # x_tr: data matrix (nxd array)\n",
        "  # y_tr: true label array (nx1 array)\n",
        "  # lam: regularization constant (constant)\n",
        "  # lr: learning rate \n",
        "  # n_iter: number of iteration steps \n",
        "  # w0: bias matrix (cxn array)\n",
        "  #Output: grad (cxd array)\n",
        "  c = 2   \n",
        "  n = np.shape(x_tr)[0]\n",
        "  d = np.shape(x_tr)[1]\n",
        "  w = w_0 or np.random.rand(c,d)\n",
        "  w_all = []\n",
        "  w_all.append(w)\n",
        "  t = 0 \n",
        "  while t <= n_iter:  \n",
        "    ii = np.random.randint(n, size=B)\n",
        "    x = x_tr[ii]\n",
        "    y = y_tr[ii]\n",
        "    w = w - lr*grad_h(w,x,y,lam,w0)\n",
        "    w_all.append(w)\n",
        "    t += 1 \n",
        "  return np.array(w_all)  "
      ],
      "execution_count": 20,
      "outputs": []
    },
    {
      "cell_type": "code",
      "metadata": {
        "id": "dVa5vOJU6_EO"
      },
      "source": [
        "lam = 10 \n",
        "B = 128 \n",
        "lr = 0.01 \n",
        "T = 100\n",
        "w_all = train_sgd_minibatch(x_tr, y_tr,B,lam, lr, T)\n",
        "loss_tr = [loss(w,x_tr, y_tr, lam)[0] for w in w_all]"
      ],
      "execution_count": null,
      "outputs": []
    },
    {
      "cell_type": "code",
      "metadata": {
        "id": "2e5zm2U7_n7B",
        "outputId": "71c120f1-2d38-4918-9f4e-f132f19c76a6",
        "colab": {
          "base_uri": "https://localhost:8080/",
          "height": 279
        }
      },
      "source": [
        "t_rng = np.array(range(len(w_all))) \n",
        "plot.semilogy(t_rng, loss_tr)\n",
        "plot.ylabel('Training loss [log-scale]')\n",
        "plot.xlabel('Iteration number')\n",
        "plot.show()"
      ],
      "execution_count": null,
      "outputs": [
        {
          "output_type": "display_data",
          "data": {
            "image/png": "[encoded data removed]",
            "text/plain": [
              "<Figure size 432x288 with 1 Axes>"
            ]
          },
          "metadata": {
            "tags": [],
            "needs_background": "light"
          }
        }
      ]
    },
    {
      "cell_type": "code",
      "metadata": {
        "id": "u2HH26XI_8CC"
      },
      "source": [
        "def train_sgd_minibatch_nest(x_tr, y_tr, B, rho, lam, lr, n_iter, w0=0,w_0 =None):\n",
        "  ##Paramaters: \n",
        "  # x_tr: data matrix (nxd array)\n",
        "  # y_tr: true label array (nx1 array)\n",
        "  # lam: regularization constant (constant)\n",
        "  # lr: learning rate \n",
        "  # n_iter: number of iteration steps \n",
        "  # w0: bias matrix (cxn array)\n",
        "  #Output: grad (cxd array)\n",
        "  c = 2   \n",
        "  n = np.shape(x_tr)[0]\n",
        "  d = np.shape(x_tr)[1]\n",
        "  u =  w_0 or np.random.rand(c,d)\n",
        "  w =  w_0 or np.random.rand(c,d)\n",
        "  w_all = []\n",
        "  w_all.append(w)\n",
        "  t = 0 \n",
        "  while t <= n_iter:  \n",
        "    ii = np.random.randint(n, size=B)\n",
        "    x = x_tr[ii]\n",
        "    y = y_tr[ii]\n",
        "    u_next = w - lr * grad_h(w,x,y,lam,w0)\n",
        "    w = (1 + rho) * u_next - rho * u\n",
        "    u = u_next\n",
        "    w_all.append(w)\n",
        "    t += 1 \n",
        "  return np.array(w_all)  "
      ],
      "execution_count": 19,
      "outputs": []
    },
    {
      "cell_type": "markdown",
      "metadata": {
        "id": "HDcSe9o4ucOj"
      },
      "source": [
        "Plot of loss for 4 algorithms, with $\\rho = 0.9$. \n",
        "\n",
        "```\n",
        "# This is formatted as code\n",
        "```\n",
        "\n"
      ]
    },
    {
      "cell_type": "code",
      "metadata": {
        "id": "yoh-BZlXBHBh"
      },
      "source": [
        "lam = 10 \n",
        "B = 128 \n",
        "lr = 0.01 \n",
        "T = 100 \n",
        "rho = 0.75 \n",
        "w_gd  = train_gd(x_tr, y_tr, lam, lr, T)\n",
        "w_nest_gd  = train_nest(x_tr, y_tr,rho,lam, lr, T)\n",
        "w_sgd = train_sgd_minibatch(x_tr, y_tr,B,lam, lr, T)\n",
        "w_nest_sgd = train_sgd_minibatch_nest(x_tr, y_tr,B, rho, lam, lr, T)\n",
        "\n",
        "loss_gd = [loss(w,x_tr, y_tr, lam)[0] for w in w_gd]\n",
        "loss_nest_gd = [loss(w,x_tr, y_tr, lam)[0] for w in w_nest_gd]\n",
        "loss_sgd = [loss(w,x_tr, y_tr, lam)[0] for w in w_sgd]\n",
        "loss_nest_sgd = [loss(w,x_tr, y_tr, lam)[0] for w in w_nest_sgd]"
      ],
      "execution_count": 21,
      "outputs": []
    },
    {
      "cell_type": "code",
      "metadata": {
        "id": "XnW3x6X3BWD0",
        "outputId": "5e5d889c-e821-465f-b2ee-6445948800cd",
        "colab": {
          "base_uri": "https://localhost:8080/",
          "height": 279
        }
      },
      "source": [
        "t_rng = np.array(range(len(w_gd))) \n",
        "t_rng2 = np.array(range(len(loss_sgd))) \n",
        "plot.semilogy(t_rng, loss_gd)\n",
        "plot.semilogy(t_rng, loss_nest_gd)\n",
        "plot.semilogy(t_rng2, loss_sgd)\n",
        "plot.semilogy(t_rng2, loss_nest_sgd)\n",
        "plot.legend(('GD','GD with Nest.','SGD','SGD with Nest') )\n",
        "plot.ylabel('Training loss [log-scale]')\n",
        "plot.xlabel('Iteration number')\n",
        "plot.show()"
      ],
      "execution_count": 22,
      "outputs": [
        {
          "output_type": "display_data",
          "data": {
            "image/png": "[encoded data removed]",
            "text/plain": [
              "<Figure size 432x288 with 1 Axes>"
            ]
          },
          "metadata": {
            "tags": [],
            "needs_background": "light"
          }
        }
      ]
    },
    {
      "cell_type": "code",
      "metadata": {
        "id": "NPgnlNMDGKcz"
      },
      "source": [
        ""
      ],
      "execution_count": null,
      "outputs": []
    }
  ]
}