{
 "cells": [
  {
   "cell_type": "code",
   "execution_count": 1,
   "metadata": {
    "colab": {
     "base_uri": "https://localhost:8080/",
     "height": 309
    },
    "id": "ulWb1nCGS1z3",
    "outputId": "db28705e-f417-4f3b-93a3-223496cb731f"
   },
   "outputs": [
    {
     "name": "stdout",
     "output_type": "stream",
     "text": [
      "Requirement already satisfied: scikit-learn in /usr/local/lib/python3.6/dist-packages (0.22.2.post1)\n",
      "Requirement already satisfied: scikit-image in /usr/local/lib/python3.6/dist-packages (0.16.2)\n",
      "Requirement already satisfied: scipy>=0.17.0 in /usr/local/lib/python3.6/dist-packages (from scikit-learn) (1.4.1)\n",
      "Requirement already satisfied: numpy>=1.11.0 in /usr/local/lib/python3.6/dist-packages (from scikit-learn) (1.18.5)\n",
      "Requirement already satisfied: joblib>=0.11 in /usr/local/lib/python3.6/dist-packages (from scikit-learn) (0.16.0)\n",
      "Requirement already satisfied: matplotlib!=3.0.0,>=2.0.0 in /usr/local/lib/python3.6/dist-packages (from scikit-image) (3.2.2)\n",
      "Requirement already satisfied: imageio>=2.3.0 in /usr/local/lib/python3.6/dist-packages (from scikit-image) (2.4.1)\n",
      "Requirement already satisfied: PyWavelets>=0.4.0 in /usr/local/lib/python3.6/dist-packages (from scikit-image) (1.1.1)\n",
      "Requirement already satisfied: networkx>=2.0 in /usr/local/lib/python3.6/dist-packages (from scikit-image) (2.5)\n",
      "Requirement already satisfied: pillow>=4.3.0 in /usr/local/lib/python3.6/dist-packages (from scikit-image) (7.0.0)\n",
      "Requirement already satisfied: cycler>=0.10 in /usr/local/lib/python3.6/dist-packages (from matplotlib!=3.0.0,>=2.0.0->scikit-image) (0.10.0)\n",
      "Requirement already satisfied: python-dateutil>=2.1 in /usr/local/lib/python3.6/dist-packages (from matplotlib!=3.0.0,>=2.0.0->scikit-image) (2.8.1)\n",
      "Requirement already satisfied: kiwisolver>=1.0.1 in /usr/local/lib/python3.6/dist-packages (from matplotlib!=3.0.0,>=2.0.0->scikit-image) (1.2.0)\n",
      "Requirement already satisfied: pyparsing!=2.0.4,!=2.1.2,!=2.1.6,>=2.0.1 in /usr/local/lib/python3.6/dist-packages (from matplotlib!=3.0.0,>=2.0.0->scikit-image) (2.4.7)\n",
      "Requirement already satisfied: decorator>=4.3.0 in /usr/local/lib/python3.6/dist-packages (from networkx>=2.0->scikit-image) (4.4.2)\n",
      "Requirement already satisfied: six in /usr/local/lib/python3.6/dist-packages (from cycler>=0.10->matplotlib!=3.0.0,>=2.0.0->scikit-image) (1.15.0)\n"
     ]
    }
   ],
   "source": [
    "!pip install scikit-learn scikit-image"
   ]
  },
  {
   "cell_type": "markdown",
   "metadata": {
    "id": "zA6MChEaTSyO"
   },
   "source": [
    "**Problem 3** "
   ]
  },
  {
   "cell_type": "code",
   "execution_count": 2,
   "metadata": {
    "id": "_XK02sPcTTOQ"
   },
   "outputs": [],
   "source": [
    "from sklearn.datasets import fetch_openml\n",
    "from sklearn.model_selection import train_test_split\n",
    "import matplotlib.pyplot as plt\n",
    "from sklearn.preprocessing import StandardScaler\n",
    "import cv2\n",
    "import numpy as np"
   ]
  },
  {
   "cell_type": "markdown",
   "metadata": {
    "id": "mJaWaGSEU5l0"
   },
   "source": [
    "(a) The dataset is first partitioned into training and validation. 50 % of the images from each class are used, with a total of 30,000 training images and 5,000 validation images. These are first normalized and downscaled to 14x14 pixel images. "
   ]
  },
  {
   "cell_type": "code",
   "execution_count": 3,
   "metadata": {
    "id": "_IoYxGYbVLnE"
   },
   "outputs": [],
   "source": [
    "ds = fetch_openml(\"mnist_784\")\n",
    "x, y = ds.data, ds.target\n",
    "x_train, x_val, y_train, y_val = train_test_split(x, y, test_size=0.2, random_state=42)\n",
    "\n",
    "x_train_downsized = [] \n",
    "x_val_downsized = [] \n",
    "for i in range(len(x_train)): \n",
    "  temp = x_train[i]\n",
    "  temp = temp.reshape((28,28))\n",
    "  temp = cv2.resize(temp, (14,14))\n",
    "  temp = temp.reshape((196,1))\n",
    "  x_train_downsized.append(temp) \n",
    "\n",
    "x_train_downsized = np.array(x_train_downsized)\n",
    "x_train_downsized = x_train_downsized[:,:,0]\n",
    "\n",
    "for i in range(len(x_val)): \n",
    "  temp2 = x_val[i]\n",
    "  temp2 = temp2.reshape((28,28))\n",
    "  temp2 = cv2.resize(temp2, (14,14))\n",
    "  temp2 = temp2.reshape((196,1))\n",
    "  x_val_downsized.append(temp2) \n",
    "\n",
    "x_val_downsized = np.array(x_val_downsized)\n",
    "x_val_downsized = x_val_downsized[:,:,0]\n",
    "scal_tr = StandardScaler()\n",
    "scal_val = StandardScaler()\n",
    "scal_val_fit = scal_val.fit(x_val_downsized)\n",
    "scal_tr_fit = scal_tr.fit(x_train_downsized)\n",
    "x_val_downsized_scaled = x_val_downsized/scal_val_fit.scale_\n",
    "x_train_downsized_scaled = x_train_downsized/scal_tr_fit.scale_\n",
    "\n",
    "sorted_tr_idx = np.argsort(y_train)\n",
    "sorted_val_idx = np.argsort(y_val)\n",
    "sorted_x_train = x_train_downsized_scaled[sorted_tr_idx] \n",
    "sorted_y_train = y_train[sorted_tr_idx] \n",
    "sorted_x_val = x_val_downsized_scaled[sorted_val_idx] \n",
    "sorted_y_val = y_val[sorted_val_idx] \n",
    "\n",
    "\n",
    "idx_tr_0 = np.argwhere(sorted_y_train =='0') \n",
    "idx_tr_1 = np.argwhere(sorted_y_train =='1') \n",
    "idx_tr_2 = np.argwhere(sorted_y_train =='2') \n",
    "idx_tr_3 = np.argwhere(sorted_y_train =='3') \n",
    "idx_tr_4 = np.argwhere(sorted_y_train =='4') \n",
    "idx_tr_5 = np.argwhere(sorted_y_train =='5') \n",
    "idx_tr_6 = np.argwhere(sorted_y_train =='6') \n",
    "idx_tr_7 = np.argwhere(sorted_y_train =='7') \n",
    "idx_tr_8 = np.argwhere(sorted_y_train =='8') \n",
    "idx_tr_9 = np.argwhere(sorted_y_train =='9') \n",
    "idx_val_0 = np.argwhere(sorted_y_val =='0') \n",
    "idx_val_1 = np.argwhere(sorted_y_val =='1') \n",
    "idx_val_2 = np.argwhere(sorted_y_val =='2') \n",
    "idx_val_3 = np.argwhere(sorted_y_val =='3') \n",
    "idx_val_4 = np.argwhere(sorted_y_val =='4') \n",
    "idx_val_5 = np.argwhere(sorted_y_val =='5') \n",
    "idx_val_6 = np.argwhere(sorted_y_val =='6') \n",
    "idx_val_7 = np.argwhere(sorted_y_val =='7') \n",
    "idx_val_8 = np.argwhere(sorted_y_val =='8') \n",
    "idx_val_9 = np.argwhere(sorted_y_val =='9') \n",
    "\n",
    "x_tr_0 = sorted_x_train[idx_tr_0[0][0]:idx_tr_0[3000][0]] \n",
    "x_tr_1 = sorted_x_train[idx_tr_1[0][0]:idx_tr_1[3000][0]] \n",
    "x_tr_2 = sorted_x_train[idx_tr_2[0][0]:idx_tr_2[3000][0]] \n",
    "x_tr_3 = sorted_x_train[idx_tr_3[0][0]:idx_tr_3[3000][0]] \n",
    "x_tr_4 = sorted_x_train[idx_tr_4[0][0]:idx_tr_4[3000][0]] \n",
    "x_tr_5 = sorted_x_train[idx_tr_5[0][0]:idx_tr_5[3000][0]] \n",
    "x_tr_6 = sorted_x_train[idx_tr_6[0][0]:idx_tr_6[3000][0]] \n",
    "x_tr_7 = sorted_x_train[idx_tr_7[0][0]:idx_tr_7[3000][0]] \n",
    "x_tr_8 = sorted_x_train[idx_tr_8[0][0]:idx_tr_8[3000][0]] \n",
    "x_tr_9 = sorted_x_train[idx_tr_9[0][0]:idx_tr_9[3000][0]] \n",
    "\n",
    "x_val_0 = sorted_x_val[idx_val_0[0][0]:idx_val_0[500][0]] \n",
    "x_val_1 = sorted_x_val[idx_val_1[0][0]:idx_val_1[500][0]] \n",
    "x_val_2 = sorted_x_val[idx_val_2[0][0]:idx_val_2[500][0]] \n",
    "x_val_3 = sorted_x_val[idx_val_3[0][0]:idx_val_3[500][0]] \n",
    "x_val_4 = sorted_x_val[idx_val_4[0][0]:idx_val_4[500][0]] \n",
    "x_val_5 = sorted_x_val[idx_val_5[0][0]:idx_val_5[500][0]] \n",
    "x_val_6 = sorted_x_val[idx_val_6[0][0]:idx_val_6[500][0]] \n",
    "x_val_7 = sorted_x_val[idx_val_7[0][0]:idx_val_7[500][0]] \n",
    "x_val_8 = sorted_x_val[idx_val_8[0][0]:idx_val_8[500][0]] \n",
    "x_val_9 = sorted_x_val[idx_val_9[0][0]:idx_val_9[500][0]] \n",
    "\n",
    "y_tr_0 = sorted_y_train[idx_tr_0[0][0]:idx_tr_0[3000][0]] \n",
    "y_tr_1 = sorted_y_train[idx_tr_1[0][0]:idx_tr_1[3000][0]] \n",
    "y_tr_2 = sorted_y_train[idx_tr_2[0][0]:idx_tr_2[3000][0]] \n",
    "y_tr_3 = sorted_y_train[idx_tr_3[0][0]:idx_tr_3[3000][0]] \n",
    "y_tr_4 = sorted_y_train[idx_tr_4[0][0]:idx_tr_4[3000][0]] \n",
    "y_tr_5 = sorted_y_train[idx_tr_5[0][0]:idx_tr_5[3000][0]] \n",
    "y_tr_6 = sorted_y_train[idx_tr_6[0][0]:idx_tr_6[3000][0]] \n",
    "y_tr_7 = sorted_y_train[idx_tr_7[0][0]:idx_tr_7[3000][0]] \n",
    "y_tr_8 = sorted_y_train[idx_tr_8[0][0]:idx_tr_8[3000][0]] \n",
    "y_tr_9 = sorted_y_train[idx_tr_9[0][0]:idx_tr_9[3000][0]] \n",
    "y_val_0 = sorted_y_val[idx_val_0[0][0]:idx_val_0[500][0]] \n",
    "y_val_1 = sorted_y_val[idx_val_1[0][0]:idx_val_1[500][0]] \n",
    "y_val_2 = sorted_y_val[idx_val_2[0][0]:idx_val_2[500][0]] \n",
    "y_val_3 = sorted_y_val[idx_val_3[0][0]:idx_val_3[500][0]] \n",
    "y_val_4 = sorted_y_val[idx_val_4[0][0]:idx_val_4[500][0]] \n",
    "y_val_5 = sorted_y_val[idx_val_5[0][0]:idx_val_5[500][0]] \n",
    "y_val_6 = sorted_y_val[idx_val_6[0][0]:idx_val_6[500][0]] \n",
    "y_val_7 = sorted_y_val[idx_val_7[0][0]:idx_val_7[500][0]] \n",
    "y_val_8 = sorted_y_val[idx_val_8[0][0]:idx_val_8[500][0]] \n",
    "y_val_9 = sorted_y_val[idx_val_9[0][0]:idx_val_9[500][0]] \n",
    "\n",
    "x_train_gabor = np.concatenate((x_tr_0,x_tr_1,x_tr_2,x_tr_3,x_tr_4,x_tr_5,x_tr_6,x_tr_7,x_tr_8,x_tr_9))\n",
    "y_train_gabor = np.concatenate((y_tr_0,y_tr_1,y_tr_2,y_tr_3,y_tr_4,y_tr_5,y_tr_6,y_tr_7,y_tr_8,y_tr_9))\n",
    "x_val_gabor = np.concatenate((x_val_0,x_val_1,x_val_2,x_val_3,x_val_4,x_val_5,x_val_6,x_val_7,x_val_8,x_val_9))\n",
    "y_val_gabor = np.concatenate((y_val_0,y_val_1,y_val_2,y_val_3,y_val_4,y_val_5,y_val_6,y_val_7,y_val_8,y_val_9))\n",
    "\n",
    "idx_tr = np.array(range(0,30000))\n",
    "idx_val = np.array(range(0,5000))\n",
    "np.random.shuffle(idx_tr)\n",
    "np.random.shuffle(idx_val)\n",
    "\n",
    "x_train = x_train_gabor[idx_tr]\n",
    "x_val = x_val_gabor[idx_val]\n",
    "y_train = y_train_gabor[idx_tr].astype(int)\n",
    "y_val = y_val_gabor[idx_val].astype(int)"
   ]
  },
  {
   "cell_type": "markdown",
   "metadata": {
    "id": "A7EtteLSsecw"
   },
   "source": [
    "(b) We now implement the linear layer. "
   ]
  },
  {
   "cell_type": "code",
   "execution_count": null,
   "metadata": {
    "colab": {
     "base_uri": "https://localhost:8080/",
     "height": 403,
     "referenced_widgets": [
      "5312b7eaac114f6583e77556dab4d3b4",
      "41b74e8ada3b4e8c842bb2b737fa5c35",
      "0782a1c2fb6944c2a78d532b60e4589f",
      "9ee1439b932748fba986cd0c19d7af23",
      "a83ac4061d2741cfa5736d49bae4a78c",
      "a40fdb0e9ba1423e8fc57cb0557f92e7",
      "7bcabf42199240fe9f24339fab2f2676",
      "4b83fcaebd6e486fa13fdc5fc1f3b610",
      "97f5dec1811c4f2fb6634dff74d992f0",
      "4c1add8b2de24f47b0c081ab3afb623b",
      "45062c6e9ccb4a59b7214c9e389f174e",
      "0e75bba3a66a4717ac8871d52550417b",
      "7a5abb2e55e94ffc8eae8d1203abc284",
      "d1f4382ac4a442be9451be2aaa133ac4",
      "906ece4751e1425f898f9726b5c40299",
      "ad1d1772fa81463cb266867b5d2d5e5c",
      "2c9b4f44bc884966be6f51eff2ebfdc1",
      "a596148c27dc432db3bca53063bb8563",
      "0f0f4541287246b7912f08be68d42b42",
      "8940e784824d4519b3e9be78b398f55c",
      "54a731c45668477cb9ec46996f76db1e",
      "f702791a79a74d04825cbf8cb77763fb",
      "ded3b3c551d4408ab9ed4ced6cc7443e",
      "5371a842cd1d4f52876a1f7f144be27d",
      "57a5189702034e4881e601dc284d78e6",
      "f96a27031a5e414aa57d7b04f01a4864",
      "e3443488b1c54b3592db83cc17b47352",
      "77c5ad309e6e4776a6ee557bc9e27d0b",
      "37dc286204864145bd49769288d9c982",
      "5ec941131b664fba8646c28d9fbd0926",
      "7cf31bd962cf4041ab766b2782046021",
      "c071bd2db6524e2ea45ef3e904db384b"
     ]
    },
    "id": "IwzR9Lh5s3Sf",
    "outputId": "03e16895-d0e8-4fc2-8d69-5c124ef17fae"
   },
   "outputs": [
    {
     "name": "stdout",
     "output_type": "stream",
     "text": [
      "Downloading http://yann.lecun.com/exdb/mnist/train-images-idx3-ubyte.gz to ./MNIST/raw/train-images-idx3-ubyte.gz\n"
     ]
    },
    {
     "data": {
      "application/vnd.jupyter.widget-view+json": {
       "model_id": "5312b7eaac114f6583e77556dab4d3b4",
       "version_major": 2,
       "version_minor": 0
      },
      "text/plain": [
       "HBox(children=(FloatProgress(value=1.0, bar_style='info', max=1.0), HTML(value='')))"
      ]
     },
     "metadata": {
      "tags": []
     },
     "output_type": "display_data"
    },
    {
     "name": "stdout",
     "output_type": "stream",
     "text": [
      "Extracting ./MNIST/raw/train-images-idx3-ubyte.gz to ./MNIST/raw\n",
      "Downloading http://yann.lecun.com/exdb/mnist/train-labels-idx1-ubyte.gz to ./MNIST/raw/train-labels-idx1-ubyte.gz\n"
     ]
    },
    {
     "data": {
      "application/vnd.jupyter.widget-view+json": {
       "model_id": "97f5dec1811c4f2fb6634dff74d992f0",
       "version_major": 2,
       "version_minor": 0
      },
      "text/plain": [
       "HBox(children=(FloatProgress(value=1.0, bar_style='info', max=1.0), HTML(value='')))"
      ]
     },
     "metadata": {
      "tags": []
     },
     "output_type": "display_data"
    },
    {
     "name": "stdout",
     "output_type": "stream",
     "text": [
      "Extracting ./MNIST/raw/train-labels-idx1-ubyte.gz to ./MNIST/raw\n",
      "Downloading http://yann.lecun.com/exdb/mnist/t10k-images-idx3-ubyte.gz to ./MNIST/raw/t10k-images-idx3-ubyte.gz\n",
      "\n"
     ]
    },
    {
     "data": {
      "application/vnd.jupyter.widget-view+json": {
       "model_id": "2c9b4f44bc884966be6f51eff2ebfdc1",
       "version_major": 2,
       "version_minor": 0
      },
      "text/plain": [
       "HBox(children=(FloatProgress(value=1.0, bar_style='info', max=1.0), HTML(value='')))"
      ]
     },
     "metadata": {
      "tags": []
     },
     "output_type": "display_data"
    },
    {
     "name": "stdout",
     "output_type": "stream",
     "text": [
      "Extracting ./MNIST/raw/t10k-images-idx3-ubyte.gz to ./MNIST/raw\n",
      "Downloading http://yann.lecun.com/exdb/mnist/t10k-labels-idx1-ubyte.gz to ./MNIST/raw/t10k-labels-idx1-ubyte.gz\n"
     ]
    },
    {
     "data": {
      "application/vnd.jupyter.widget-view+json": {
       "model_id": "57a5189702034e4881e601dc284d78e6",
       "version_major": 2,
       "version_minor": 0
      },
      "text/plain": [
       "HBox(children=(FloatProgress(value=1.0, bar_style='info', max=1.0), HTML(value='')))"
      ]
     },
     "metadata": {
      "tags": []
     },
     "output_type": "display_data"
    },
    {
     "name": "stdout",
     "output_type": "stream",
     "text": [
      "Extracting ./MNIST/raw/t10k-labels-idx1-ubyte.gz to ./MNIST/raw\n",
      "Processing...\n"
     ]
    },
    {
     "name": "stderr",
     "output_type": "stream",
     "text": [
      "/usr/local/lib/python3.6/dist-packages/torchvision/datasets/mnist.py:469: UserWarning: The given NumPy array is not writeable, and PyTorch does not support non-writeable tensors. This means you can write to the underlying (supposedly non-writeable) NumPy array using the tensor. You may want to copy the array to protect its data or make it writeable before converting it to a tensor. This type of warning will be suppressed for the rest of this program. (Triggered internally at  /pytorch/torch/csrc/utils/tensor_numpy.cpp:141.)\n",
      "  return torch.from_numpy(parsed.astype(m[2], copy=False)).view(*s)\n"
     ]
    },
    {
     "name": "stdout",
     "output_type": "stream",
     "text": [
      "Done!\n",
      "torch.Size([60000, 28, 28]) 60000\n"
     ]
    }
   ],
   "source": [
    "import torchvision as thv\n",
    "train = thv.datasets.MNIST(\"./\", download=True, train=True)\n",
    "val = thv.datasets.MNIST(\"./\", download=True, train=False)\n",
    "print(train.data.shape, len(train.targets))"
   ]
  },
  {
   "cell_type": "code",
   "execution_count": 8,
   "metadata": {
    "id": "Bf6_YUqRs9iZ"
   },
   "outputs": [],
   "source": [
    "class LayerLinear:\n",
    "      def __init__(self, c, d, n, w=None, b=None):\n",
    "        self._w = w or np.random.rand(c,d)/np.linalg.norm(np.random.rand(d,c), ord=\"fro\") #cxd\n",
    "        self._b = b or np.zeros([c,1]) # cx1 \n",
    "        self._hin = None #nxd \n",
    "        self._hout = None #cxn    \n",
    "        self._dhout_w = None #cxnxd  \n",
    "        self._dhout_b = None #cx1 \n",
    "     \n",
    "      def forward(self, hin):\n",
    "        hout =  np.matmul(self._w,hin.T) + self._b #cxn \n",
    "        self._hin, self._hout =  hin, hout  #hin is nxd , hout is cxn\n",
    "        return self._hout\n",
    "    \n",
    "      def backward(self):\n",
    "        dw = np.array([self._hin]*self._b.shape[0])#cxnxd \n",
    "        db = np.ones([self._w.shape[0],1]) #cx1 \n",
    "        self._dhout_w, self._dhout_b = dw, np.array([db]*self._hout[1])[0] \n",
    "        return (dw, db)\n",
    "    \n",
    "      def zero_grad(self):\n",
    "        self._dhout_w, self._dhout_b= 0*self._dhout_w, 0*self._dhout_b\n",
    "   "
   ]
  },
  {
   "cell_type": "code",
   "execution_count": 9,
   "metadata": {
    "colab": {
     "base_uri": "https://localhost:8080/",
     "height": 119
    },
    "id": "EPeGAwfyhQzE",
    "outputId": "f2939ec6-eb05-4ce5-f48f-984f3f15024e"
   },
   "outputs": [
    {
     "name": "stdout",
     "output_type": "stream",
     "text": [
      "(10, 196)\n",
      "(10, 1)\n",
      "(10000, 196)\n",
      "(10, 10000)\n",
      "(10, 10000, 196)\n",
      "(10, 10000)\n"
     ]
    }
   ],
   "source": [
    "lin_layer_test = LayerLinear(10,196,10000)\n",
    "h_in = np.random.rand(10000,196) \n",
    "h_out = lin_layer_test.forward(h_in)\n",
    "lin_layer_test.backward() \n",
    "\n",
    "print(np.shape(lin_layer_test._w)) \n",
    "print(np.shape(lin_layer_test._b))\n",
    "print(np.shape(lin_layer_test._hin))\n",
    "print(np.shape(lin_layer_test._hout))\n",
    "print(np.shape(lin_layer_test._dhout_w))\n",
    "print(np.shape(lin_layer_test._dhout_b))"
   ]
  },
  {
   "cell_type": "markdown",
   "metadata": {
    "id": "ba7DHL9jixOJ"
   },
   "source": [
    "(c) Now we can implement the ReLU layer. "
   ]
  },
  {
   "cell_type": "code",
   "execution_count": 127,
   "metadata": {
    "id": "_Dqj6oxFi0TP"
   },
   "outputs": [],
   "source": [
    "class LayerReLU:\n",
    "      def __init__(self, LinearLayer):\n",
    "        self._hin_layer = LinearLayer\n",
    "        self._hin = LinearLayer._hout\n",
    "        self._hout = None #cxn    \n",
    "        self._dhin = None \n",
    "        self._dhout_w = None #nxcxd \n",
    "        self._dhout_b = None #nxc \n",
    "     \n",
    "      def forward(self, hin=None):\n",
    "        if hin: \n",
    "          h_in = hin\n",
    "        else: \n",
    "          h_in  = self._hin     \n",
    "        idx_g0 = h_in > 0 \n",
    "        idx_g0 = idx_g0.astype(int) \n",
    "        self._hout = h_in*idx_g0\n",
    "        return self._hout\n",
    "    \n",
    "      def backward(self):\n",
    "        idx_g0 = self._hout>0 \n",
    "        idx_g0 = idx_g0.astype(int) \n",
    "        self._dhout_hin = idx_g0 \n",
    "        dws = [] \n",
    "        for i in range(np.shape(self._hin_layer._dhout_w)[2]): \n",
    "         dw = self._dhout_hin*self._hin_layer._dhout_w[:,:,i] \n",
    "         dws.append(dw) \n",
    "        self._dhout_w = np.array(dws).T #nxcxd\n",
    "        self._dhout_b = self._dhout_hin*self._hin_layer._dhout_b \n",
    "        self._dhout_b = self._dhout_b.T\n",
    "\n",
    "      def zero_grad(self):\n",
    "        self._dhout_w, self._dhout_b= 0*self._dhout_w, 0*self._dhout_b\n",
    "   "
   ]
  },
  {
   "cell_type": "code",
   "execution_count": 11,
   "metadata": {
    "colab": {
     "base_uri": "https://localhost:8080/",
     "height": 85
    },
    "id": "0GTmdi0Oi3LH",
    "outputId": "d5d42a51-220b-4e7e-bf3f-1b423b216cb4"
   },
   "outputs": [
    {
     "name": "stdout",
     "output_type": "stream",
     "text": [
      "(10, 10000)\n",
      "(10, 10000)\n",
      "(10000, 10, 196)\n",
      "(10000, 10)\n"
     ]
    }
   ],
   "source": [
    "hin = lin_layer_test\n",
    "relu_layer = LayerReLU(hin)\n",
    "relu_layer.forward()\n",
    "relu_layer.backward()\n",
    "print(np.shape(relu_layer._hin)) \n",
    "print(np.shape(relu_layer._hout)) \n",
    "print(np.shape(relu_layer._dhout_w)) \n",
    "print(np.shape(relu_layer._dhout_b)) "
   ]
  },
  {
   "cell_type": "markdown",
   "metadata": {
    "id": "7NUFXDfCpDcP"
   },
   "source": [
    "(d) We now implement the softmax/cross-entropy layer. "
   ]
  },
  {
   "cell_type": "code",
   "execution_count": 146,
   "metadata": {
    "id": "iIIkc5eCi8FA"
   },
   "outputs": [],
   "source": [
    "class softmax_cross_entropy_t:\n",
    "    def __init__(self, LayerReLU):\n",
    "        self._hin_layer = LayerReLU\n",
    "        self._hin = LayerReLU._hout \n",
    "        self._sftmx = None \n",
    "        self._sftmx_av = None \n",
    "        self._hout = None \n",
    "        self._preds = None \n",
    "        self._dhout_w = None       \n",
    "        self._dhout_b = None \n",
    "        self._error = None\n",
    "        self._y = None \n",
    "    \n",
    "    def forward(self, y):\n",
    "      n = np.shape(self._hin)[1]   \n",
    "      sftmx = self._hin/np.array([np.sum(self._hin,axis=1)]*n).T\n",
    "      self._sftmx = sftmx  \n",
    "      self._hout = np.sum(-np.log(self._sftmx), axis=1)/n \n",
    "      pred = np.argmax(-np.log(self._sftmx),axis=0)\n",
    "      self._y = y \n",
    "      self._preds = pred \n",
    "      temp = pred == y \n",
    "     # temp = temp.astype(int)\n",
    "      #self._error = 1 - np.sum(temp[0])/n\n",
    "      \n",
    "    def backward(self):\n",
    "      dhin_w = self._hin_layer._dhout_w\n",
    "      dhin_b = self._hin_layer._dhout_b \n",
    "      dh_in = self._sftmx*(1-self._sftmx)  \n",
    "      self._dl_dh = np.array([self._y]*10).T*dh_in.T\n",
    "      d = np.shape(self._hin_layer._dhout_w)[2]\n",
    "      dl_dw = [] \n",
    "      for i in range(d): \n",
    "        dl_dw.append(self._hin_layer._dhout_w[:,:,i]*self._dl_dh)\n",
    "      self._dhout_w = np.array(dl_dw).T\n",
    "      self._dhout_b = self._dl_dh*self._hin_layer._dhout_b\n",
    "        "
   ]
  },
  {
   "cell_type": "code",
   "execution_count": 13,
   "metadata": {
    "colab": {
     "base_uri": "https://localhost:8080/",
     "height": 68
    },
    "id": "0DaeBQtZqGOB",
    "outputId": "3467e473-2435-4c39-cd33-97dbf3b3a533"
   },
   "outputs": [
    {
     "name": "stdout",
     "output_type": "stream",
     "text": [
      "(10, 10000, 196)\n",
      "(10000, 10)\n",
      "(10000,)\n"
     ]
    }
   ],
   "source": [
    "sftmx = softmax_cross_entropy_t(relu_layer)\n",
    "y = np.random.rand(10000,1)\n",
    "sftmx.forward(y)\n",
    "sftmx.backward()\n",
    "print(np.shape(sftmx._dhout_w))\n",
    "print(np.shape(sftmx._dhout_b))\n",
    "print(np.shape(sftmx._preds))"
   ]
  },
  {
   "cell_type": "markdown",
   "metadata": {
    "id": "QyXy7ZALC9kh"
   },
   "source": [
    "(e) We can now check the implementations of the foward function for each layer. Take a batch size of 1 for now."
   ]
  },
  {
   "cell_type": "code",
   "execution_count": 15,
   "metadata": {
    "id": "BYlwS-2uDVBy"
   },
   "outputs": [],
   "source": [
    "x_test = x_train[0] #test input image (downscaled)\n",
    "y_test = y_train[0] \n",
    "d = np.size(x_test) #feature dimension \n",
    "c = 10  #number of classes \n",
    "n = 1  #batch size "
   ]
  },
  {
   "cell_type": "markdown",
   "metadata": {
    "id": "O46aP7ZTEOJ0"
   },
   "source": [
    "Starting with the linear layer (forward function),"
   ]
  },
  {
   "cell_type": "code",
   "execution_count": 20,
   "metadata": {
    "colab": {
     "base_uri": "https://localhost:8080/",
     "height": 374
    },
    "id": "27yMCRq6Dzd0",
    "outputId": "fb106aea-3d36-47ed-80de-3df0138e2506"
   },
   "outputs": [
    {
     "name": "stdout",
     "output_type": "stream",
     "text": [
      "[[1.6072023  1.85228144 1.68955714 1.69802779 1.74857744 1.81760121\n",
      "  1.97884948 2.09268543 1.98924773 1.9219775 ]\n",
      " [1.6072023  1.85228144 1.68955714 1.69802779 1.74857744 1.81760121\n",
      "  1.97884948 2.09268543 1.98924773 1.9219775 ]\n",
      " [1.6072023  1.85228144 1.68955714 1.69802779 1.74857744 1.81760121\n",
      "  1.97884948 2.09268543 1.98924773 1.9219775 ]\n",
      " [1.6072023  1.85228144 1.68955714 1.69802779 1.74857744 1.81760121\n",
      "  1.97884948 2.09268543 1.98924773 1.9219775 ]\n",
      " [1.6072023  1.85228144 1.68955714 1.69802779 1.74857744 1.81760121\n",
      "  1.97884948 2.09268543 1.98924773 1.9219775 ]\n",
      " [1.6072023  1.85228144 1.68955714 1.69802779 1.74857744 1.81760121\n",
      "  1.97884948 2.09268543 1.98924773 1.9219775 ]\n",
      " [1.6072023  1.85228144 1.68955714 1.69802779 1.74857744 1.81760121\n",
      "  1.97884948 2.09268543 1.98924773 1.9219775 ]\n",
      " [1.6072023  1.85228144 1.68955714 1.69802779 1.74857744 1.81760121\n",
      "  1.97884948 2.09268543 1.98924773 1.9219775 ]\n",
      " [1.6072023  1.85228144 1.68955714 1.69802779 1.74857744 1.81760121\n",
      "  1.97884948 2.09268543 1.98924773 1.9219775 ]\n",
      " [1.6072023  1.85228144 1.68955714 1.69802779 1.74857744 1.81760121\n",
      "  1.97884948 2.09268543 1.98924773 1.9219775 ]]\n",
      "(10, 10)\n"
     ]
    }
   ],
   "source": [
    "lin_layer = LayerLinear(c,d,n) \n",
    "hout_lin = lin_layer.forward(x_test)\n",
    "print(hout_lin) ## print forward function \n",
    "print(np.shape(hout_lin)) ## print forward function "
   ]
  },
  {
   "cell_type": "markdown",
   "metadata": {
    "id": "aIMQeAnz7bP5"
   },
   "source": [
    "Test gradient with respect to W and b. "
   ]
  },
  {
   "cell_type": "code",
   "execution_count": 81,
   "metadata": {
    "colab": {
     "base_uri": "https://localhost:8080/",
     "height": 782
    },
    "id": "ENMN1IxQ68vH",
    "outputId": "f7d27ffc-ac56-479e-e800-10d53c46de15"
   },
   "outputs": [
    {
     "name": "stdout",
     "output_type": "stream",
     "text": [
      "[0.         0.         0.         0.         0.         0.\n",
      " 0.         0.         0.         0.         0.         0.\n",
      " 0.         0.         0.         0.         0.         0.\n",
      " 0.         0.         0.         0.         0.         0.\n",
      " 0.         0.         0.         0.         0.         0.\n",
      " 0.         0.         0.         0.         0.         0.\n",
      " 0.         0.         0.         0.         0.         0.\n",
      " 0.         0.         0.         0.         0.         0.\n",
      " 0.         0.         0.         0.         0.         0.\n",
      " 0.         0.         0.         0.         0.         0.\n",
      " 0.42612169 1.5897698  2.147409   2.63188523 2.65633908 2.21994544\n",
      " 0.91359469 0.         0.         0.         0.         0.\n",
      " 0.         0.03487542 2.31832671 2.61113231 2.3089879  1.76643787\n",
      " 1.77962439 2.61178232 2.7320701  0.07885484 0.         0.\n",
      " 0.         0.         0.         0.09636775 2.50365406 0.81110971\n",
      " 0.         0.         1.00407441 2.62643026 3.0433049  0.11524066\n",
      " 0.         0.         0.         0.         0.         0.\n",
      " 1.59197236 2.37797882 1.20880499 1.1715883  2.50449978 2.65293638\n",
      " 1.18175898 0.         0.         0.         0.         0.\n",
      " 0.         0.         0.07188403 1.3979719  2.46385386 2.59426519\n",
      " 2.47124264 0.62489203 0.         0.         0.         0.\n",
      " 0.         0.         0.         0.         0.         0.\n",
      " 0.79100421 2.61380826 0.75337498 0.         0.         0.\n",
      " 0.         0.         0.         0.         0.         0.\n",
      " 0.         0.03315636 1.86216977 2.01798388 0.         0.\n",
      " 0.         0.         0.         0.         0.         0.\n",
      " 0.         0.         0.         0.29633625 2.61570856 0.69076411\n",
      " 0.         0.         0.         0.         0.         0.\n",
      " 0.         0.         0.         0.         0.         1.35258685\n",
      " 3.27353852 0.03949962 0.         0.         0.         0.\n",
      " 0.         0.         0.         0.         0.         0.\n",
      " 0.         5.40549029 7.33172028 0.         0.         0.\n",
      " 0.         0.         0.         0.        ]\n",
      "[[1.]\n",
      " [1.]\n",
      " [1.]\n",
      " [1.]\n",
      " [1.]\n",
      " [1.]\n",
      " [1.]\n",
      " [1.]\n",
      " [1.]\n",
      " [1.]]\n",
      "(10, 196)\n",
      "(10, 1)\n"
     ]
    }
   ],
   "source": [
    "dw, db = lin_layer.backward()\n",
    "print(dw[0])\n",
    "print(db)\n",
    "print(np.shape(dw))\n",
    "print(np.shape(db))"
   ]
  },
  {
   "cell_type": "markdown",
   "metadata": {
    "id": "WBCnRiuw8eJ4"
   },
   "source": [
    "Now checking the value of the gradients. (looking at only one class). "
   ]
  },
  {
   "cell_type": "code",
   "execution_count": 82,
   "metadata": {
    "colab": {
     "base_uri": "https://localhost:8080/",
     "height": 578
    },
    "id": "isAnVX7u7usF",
    "outputId": "6799aa46-c05b-4ce6-e55d-9ff16b3d446d"
   },
   "outputs": [
    {
     "name": "stdout",
     "output_type": "stream",
     "text": [
      "[0.         0.         0.         0.         0.         0.\n",
      " 0.         0.         0.         0.         0.         0.\n",
      " 0.         0.         0.         0.         0.         0.\n",
      " 0.         0.         0.         0.         0.         0.\n",
      " 0.         0.         0.         0.         0.         0.\n",
      " 0.         0.         0.         0.         0.         0.\n",
      " 0.         0.         0.         0.         0.         0.\n",
      " 0.         0.         0.         0.         0.         0.\n",
      " 0.         0.         0.         0.         0.         0.\n",
      " 0.         0.         0.         0.         0.         0.\n",
      " 0.42612169 1.5897698  2.147409   2.63188523 2.65633908 2.21994544\n",
      " 0.91359469 0.         0.         0.         0.         0.\n",
      " 0.         0.03487542 2.31832671 2.61113231 2.3089879  1.76643787\n",
      " 1.77962439 2.61178232 2.7320701  0.07885484 0.         0.\n",
      " 0.         0.         0.         0.09636775 2.50365406 0.81110971\n",
      " 0.         0.         1.00407441 2.62643026 3.0433049  0.11524066\n",
      " 0.         0.         0.         0.         0.         0.\n",
      " 1.59197236 2.37797882 1.20880499 1.1715883  2.50449978 2.65293638\n",
      " 1.18175898 0.         0.         0.         0.         0.\n",
      " 0.         0.         0.07188403 1.3979719  2.46385386 2.59426519\n",
      " 2.47124264 0.62489203 0.         0.         0.         0.\n",
      " 0.         0.         0.         0.         0.         0.\n",
      " 0.79100421 2.61380826 0.75337498 0.         0.         0.\n",
      " 0.         0.         0.         0.         0.         0.\n",
      " 0.         0.03315636 1.86216977 2.01798388 0.         0.\n",
      " 0.         0.         0.         0.         0.         0.\n",
      " 0.         0.         0.         0.29633625 2.61570856 0.69076411\n",
      " 0.         0.         0.         0.         0.         0.\n",
      " 0.         0.         0.         0.         0.         1.35258685\n",
      " 3.27353852 0.03949962 0.         0.         0.         0.\n",
      " 0.         0.         0.         0.         0.         0.\n",
      " 0.         5.40549029 7.33172028 0.         0.         0.\n",
      " 0.         0.         0.         0.        ]\n"
     ]
    }
   ],
   "source": [
    "w_1 = lin_layer._w[0]\n",
    "eps = np.random.rand(d,1)[:,0]\n",
    "numerator = 0.5*((w_1+eps)*x_test - (w_1-eps)*x_test)\n",
    "dw_grad_approx = numerator/eps\n",
    "print(dw_grad_approx)"
   ]
  },
  {
   "cell_type": "markdown",
   "metadata": {
    "id": "tf6DmZYdDmq5"
   },
   "source": [
    "Computing the percent error gives (average across dimensions), "
   ]
  },
  {
   "cell_type": "code",
   "execution_count": 89,
   "metadata": {
    "colab": {
     "base_uri": "https://localhost:8080/",
     "height": 34
    },
    "id": "YmUjjTHnDmD9",
    "outputId": "3e827434-7fd7-4bd6-a7ae-64b1bcce6071"
   },
   "outputs": [
    {
     "name": "stdout",
     "output_type": "stream",
     "text": [
      "Error: 8.093481378406857\n"
     ]
    }
   ],
   "source": [
    "err_1 =np.linalg.norm(dw_grad_approx-w_1)/d\n",
    "print(\"Error:\", err_1*100)"
   ]
  },
  {
   "cell_type": "markdown",
   "metadata": {
    "id": "aUnu8lVyEcpZ"
   },
   "source": [
    "We can do this for the other 9 classes, "
   ]
  },
  {
   "cell_type": "code",
   "execution_count": 91,
   "metadata": {
    "colab": {
     "base_uri": "https://localhost:8080/",
     "height": 170
    },
    "id": "S5q-ccz6DMro",
    "outputId": "637b9c8b-db91-4e09-eeb4-11c40a6f0a36"
   },
   "outputs": [
    {
     "name": "stdout",
     "output_type": "stream",
     "text": [
      "Error: 8.093481378406857\n",
      "Error: 8.085725776012849\n",
      "Error: 8.09103897731538\n",
      "Error: 8.090742917705521\n",
      "Error: 8.089218956089713\n",
      "Error: 8.086866755992595\n",
      "Error: 8.081772357158359\n",
      "Error: 8.078082480239612\n",
      "Error: 8.081484888771712\n"
     ]
    }
   ],
   "source": [
    "errors = [] \n",
    "for i in range(9): \n",
    "  w = lin_layer._w[i]\n",
    "  eps = np.random.rand(d,1)[:,0]\n",
    "  numerator = 0.5*((w+eps)*x_test - (w-eps)*x_test)\n",
    "  dw_grad_approx = numerator/eps\n",
    "  errors.append(np.linalg.norm(dw_grad_approx-w)/d)\n",
    "  print(\"Error:\", errors[i]*100)"
   ]
  },
  {
   "cell_type": "markdown",
   "metadata": {
    "id": "WZf1CPtLFpDA"
   },
   "source": [
    "All of the errors computed for the gradient with respect to W are within 8 % (or 92 % accuracy). This demosnstrates that the implementation of the gradiernts are accurate. We now go on to apply this for gradients of the ReLU(class 0). "
   ]
  },
  {
   "cell_type": "code",
   "execution_count": 123,
   "metadata": {
    "id": "zFNiSC0zFmrA"
   },
   "outputs": [],
   "source": [
    "x_test = x_train[0:2] \n",
    "lin_layer = LayerLinear(c,d,n) \n",
    "hout_lin = lin_layer.forward(x_test)\n",
    "lin_layer.backward()\n",
    "layer_relu = LayerReLU(lin_layer)\n",
    "layer_relu.forward()\n",
    "layer_relu.backward()\n",
    "relu_dw  = layer_relu._dhout_w[0][0]"
   ]
  },
  {
   "cell_type": "code",
   "execution_count": 126,
   "metadata": {
    "colab": {
     "base_uri": "https://localhost:8080/",
     "height": 34
    },
    "id": "VFFUV-rLIWvL",
    "outputId": "9cb4d16c-b9c7-41d2-aa51-04950d0ccc47"
   },
   "outputs": [
    {
     "name": "stdout",
     "output_type": "stream",
     "text": [
      "(10, 2)\n"
     ]
    }
   ],
   "source": [
    "eps = 0.5 \n",
    "sig_p = \n",
    "sig_m = \n",
    "numerator =  0.5*(layer_relu.forward( eps) - (w-eps)*x_test)"
   ]
  },
  {
   "cell_type": "markdown",
   "metadata": {
    "id": "cgyDJsiILYsI"
   },
   "source": [
    "(f) Training the neural network. "
   ]
  },
  {
   "cell_type": "code",
   "execution_count": 150,
   "metadata": {
    "id": "SzFmnYnxNKYb"
   },
   "outputs": [],
   "source": [
    "x_train_b = x_train \n",
    "y_train_b = y_train\n",
    "l1 = LayerLinear(10,196,30000)\n",
    "l1.forward(x_train_b)\n",
    "l1.backward()\n",
    "l2 = LayerReLU(l1)\n",
    "l2.forward()\n",
    "l2.backward()\n",
    "l3 = softmax_cross_entropy_t(l2)\n",
    "l3.forward(y_train_b)\n",
    "l3.backward()"
   ]
  },
  {
   "cell_type": "code",
   "execution_count": null,
   "metadata": {
    "id": "LNqQulHEQS6e"
   },
   "outputs": [],
   "source": []
  }
 ],
 "metadata": {
  "colab": {
   "collapsed_sections": [],
   "name": "leclerc_nima_ese_546_hw1_prob3.ipynb",
   "provenance": []
  },
  "kernelspec": {
   "display_name": "Python 3",
   "language": "python",
   "name": "python3"
  },
  "language_info": {
   "codemirror_mode": {
    "name": "ipython",
    "version": 3
   },
   "file_extension": ".py",
   "mimetype": "text/x-python",
   "name": "python",
   "nbconvert_exporter": "python",
   "pygments_lexer": "ipython3",
   "version": "3.7.6"
  },
  "widgets": {
   "application/vnd.jupyter.widget-state+json": {
    "0782a1c2fb6944c2a78d532b60e4589f": {
     "model_module": "@jupyter-widgets/controls",
     "model_name": "FloatProgressModel",
     "state": {
      "_dom_classes": [],
      "_model_module": "@jupyter-widgets/controls",
      "_model_module_version": "1.5.0",
      "_model_name": "FloatProgressModel",
      "_view_count": null,
      "_view_module": "@jupyter-widgets/controls",
      "_view_module_version": "1.5.0",
      "_view_name": "ProgressView",
      "bar_style": "info",
      "description": "",
      "description_tooltip": null,
      "layout": "IPY_MODEL_a40fdb0e9ba1423e8fc57cb0557f92e7",
      "max": 1,
      "min": 0,
      "orientation": "horizontal",
      "style": "IPY_MODEL_a83ac4061d2741cfa5736d49bae4a78c",
      "value": 1
     }
    },
    "0e75bba3a66a4717ac8871d52550417b": {
     "model_module": "@jupyter-widgets/controls",
     "model_name": "HTMLModel",
     "state": {
      "_dom_classes": [],
      "_model_module": "@jupyter-widgets/controls",
      "_model_module_version": "1.5.0",
      "_model_name": "HTMLModel",
      "_view_count": null,
      "_view_module": "@jupyter-widgets/controls",
      "_view_module_version": "1.5.0",
      "_view_name": "HTMLView",
      "description": "",
      "description_tooltip": null,
      "layout": "IPY_MODEL_ad1d1772fa81463cb266867b5d2d5e5c",
      "placeholder": "​",
      "style": "IPY_MODEL_906ece4751e1425f898f9726b5c40299",
      "value": " 32768/? [00:00&lt;00:00, 141293.73it/s]"
     }
    },
    "0f0f4541287246b7912f08be68d42b42": {
     "model_module": "@jupyter-widgets/controls",
     "model_name": "FloatProgressModel",
     "state": {
      "_dom_classes": [],
      "_model_module": "@jupyter-widgets/controls",
      "_model_module_version": "1.5.0",
      "_model_name": "FloatProgressModel",
      "_view_count": null,
      "_view_module": "@jupyter-widgets/controls",
      "_view_module_version": "1.5.0",
      "_view_name": "ProgressView",
      "bar_style": "info",
      "description": "",
      "description_tooltip": null,
      "layout": "IPY_MODEL_f702791a79a74d04825cbf8cb77763fb",
      "max": 1,
      "min": 0,
      "orientation": "horizontal",
      "style": "IPY_MODEL_54a731c45668477cb9ec46996f76db1e",
      "value": 1
     }
    },
    "2c9b4f44bc884966be6f51eff2ebfdc1": {
     "model_module": "@jupyter-widgets/controls",
     "model_name": "HBoxModel",
     "state": {
      "_dom_classes": [],
      "_model_module": "@jupyter-widgets/controls",
      "_model_module_version": "1.5.0",
      "_model_name": "HBoxModel",
      "_view_count": null,
      "_view_module": "@jupyter-widgets/controls",
      "_view_module_version": "1.5.0",
      "_view_name": "HBoxView",
      "box_style": "",
      "children": [
       "IPY_MODEL_0f0f4541287246b7912f08be68d42b42",
       "IPY_MODEL_8940e784824d4519b3e9be78b398f55c"
      ],
      "layout": "IPY_MODEL_a596148c27dc432db3bca53063bb8563"
     }
    },
    "37dc286204864145bd49769288d9c982": {
     "model_module": "@jupyter-widgets/controls",
     "model_name": "ProgressStyleModel",
     "state": {
      "_model_module": "@jupyter-widgets/controls",
      "_model_module_version": "1.5.0",
      "_model_name": "ProgressStyleModel",
      "_view_count": null,
      "_view_module": "@jupyter-widgets/base",
      "_view_module_version": "1.2.0",
      "_view_name": "StyleView",
      "bar_color": null,
      "description_width": "initial"
     }
    },
    "41b74e8ada3b4e8c842bb2b737fa5c35": {
     "model_module": "@jupyter-widgets/base",
     "model_name": "LayoutModel",
     "state": {
      "_model_module": "@jupyter-widgets/base",
      "_model_module_version": "1.2.0",
      "_model_name": "LayoutModel",
      "_view_count": null,
      "_view_module": "@jupyter-widgets/base",
      "_view_module_version": "1.2.0",
      "_view_name": "LayoutView",
      "align_content": null,
      "align_items": null,
      "align_self": null,
      "border": null,
      "bottom": null,
      "display": null,
      "flex": null,
      "flex_flow": null,
      "grid_area": null,
      "grid_auto_columns": null,
      "grid_auto_flow": null,
      "grid_auto_rows": null,
      "grid_column": null,
      "grid_gap": null,
      "grid_row": null,
      "grid_template_areas": null,
      "grid_template_columns": null,
      "grid_template_rows": null,
      "height": null,
      "justify_content": null,
      "justify_items": null,
      "left": null,
      "margin": null,
      "max_height": null,
      "max_width": null,
      "min_height": null,
      "min_width": null,
      "object_fit": null,
      "object_position": null,
      "order": null,
      "overflow": null,
      "overflow_x": null,
      "overflow_y": null,
      "padding": null,
      "right": null,
      "top": null,
      "visibility": null,
      "width": null
     }
    },
    "45062c6e9ccb4a59b7214c9e389f174e": {
     "model_module": "@jupyter-widgets/controls",
     "model_name": "FloatProgressModel",
     "state": {
      "_dom_classes": [],
      "_model_module": "@jupyter-widgets/controls",
      "_model_module_version": "1.5.0",
      "_model_name": "FloatProgressModel",
      "_view_count": null,
      "_view_module": "@jupyter-widgets/controls",
      "_view_module_version": "1.5.0",
      "_view_name": "ProgressView",
      "bar_style": "success",
      "description": "",
      "description_tooltip": null,
      "layout": "IPY_MODEL_d1f4382ac4a442be9451be2aaa133ac4",
      "max": 1,
      "min": 0,
      "orientation": "horizontal",
      "style": "IPY_MODEL_7a5abb2e55e94ffc8eae8d1203abc284",
      "value": 1
     }
    },
    "4b83fcaebd6e486fa13fdc5fc1f3b610": {
     "model_module": "@jupyter-widgets/base",
     "model_name": "LayoutModel",
     "state": {
      "_model_module": "@jupyter-widgets/base",
      "_model_module_version": "1.2.0",
      "_model_name": "LayoutModel",
      "_view_count": null,
      "_view_module": "@jupyter-widgets/base",
      "_view_module_version": "1.2.0",
      "_view_name": "LayoutView",
      "align_content": null,
      "align_items": null,
      "align_self": null,
      "border": null,
      "bottom": null,
      "display": null,
      "flex": null,
      "flex_flow": null,
      "grid_area": null,
      "grid_auto_columns": null,
      "grid_auto_flow": null,
      "grid_auto_rows": null,
      "grid_column": null,
      "grid_gap": null,
      "grid_row": null,
      "grid_template_areas": null,
      "grid_template_columns": null,
      "grid_template_rows": null,
      "height": null,
      "justify_content": null,
      "justify_items": null,
      "left": null,
      "margin": null,
      "max_height": null,
      "max_width": null,
      "min_height": null,
      "min_width": null,
      "object_fit": null,
      "object_position": null,
      "order": null,
      "overflow": null,
      "overflow_x": null,
      "overflow_y": null,
      "padding": null,
      "right": null,
      "top": null,
      "visibility": null,
      "width": null
     }
    },
    "4c1add8b2de24f47b0c081ab3afb623b": {
     "model_module": "@jupyter-widgets/base",
     "model_name": "LayoutModel",
     "state": {
      "_model_module": "@jupyter-widgets/base",
      "_model_module_version": "1.2.0",
      "_model_name": "LayoutModel",
      "_view_count": null,
      "_view_module": "@jupyter-widgets/base",
      "_view_module_version": "1.2.0",
      "_view_name": "LayoutView",
      "align_content": null,
      "align_items": null,
      "align_self": null,
      "border": null,
      "bottom": null,
      "display": null,
      "flex": null,
      "flex_flow": null,
      "grid_area": null,
      "grid_auto_columns": null,
      "grid_auto_flow": null,
      "grid_auto_rows": null,
      "grid_column": null,
      "grid_gap": null,
      "grid_row": null,
      "grid_template_areas": null,
      "grid_template_columns": null,
      "grid_template_rows": null,
      "height": null,
      "justify_content": null,
      "justify_items": null,
      "left": null,
      "margin": null,
      "max_height": null,
      "max_width": null,
      "min_height": null,
      "min_width": null,
      "object_fit": null,
      "object_position": null,
      "order": null,
      "overflow": null,
      "overflow_x": null,
      "overflow_y": null,
      "padding": null,
      "right": null,
      "top": null,
      "visibility": null,
      "width": null
     }
    },
    "5312b7eaac114f6583e77556dab4d3b4": {
     "model_module": "@jupyter-widgets/controls",
     "model_name": "HBoxModel",
     "state": {
      "_dom_classes": [],
      "_model_module": "@jupyter-widgets/controls",
      "_model_module_version": "1.5.0",
      "_model_name": "HBoxModel",
      "_view_count": null,
      "_view_module": "@jupyter-widgets/controls",
      "_view_module_version": "1.5.0",
      "_view_name": "HBoxView",
      "box_style": "",
      "children": [
       "IPY_MODEL_0782a1c2fb6944c2a78d532b60e4589f",
       "IPY_MODEL_9ee1439b932748fba986cd0c19d7af23"
      ],
      "layout": "IPY_MODEL_41b74e8ada3b4e8c842bb2b737fa5c35"
     }
    },
    "5371a842cd1d4f52876a1f7f144be27d": {
     "model_module": "@jupyter-widgets/base",
     "model_name": "LayoutModel",
     "state": {
      "_model_module": "@jupyter-widgets/base",
      "_model_module_version": "1.2.0",
      "_model_name": "LayoutModel",
      "_view_count": null,
      "_view_module": "@jupyter-widgets/base",
      "_view_module_version": "1.2.0",
      "_view_name": "LayoutView",
      "align_content": null,
      "align_items": null,
      "align_self": null,
      "border": null,
      "bottom": null,
      "display": null,
      "flex": null,
      "flex_flow": null,
      "grid_area": null,
      "grid_auto_columns": null,
      "grid_auto_flow": null,
      "grid_auto_rows": null,
      "grid_column": null,
      "grid_gap": null,
      "grid_row": null,
      "grid_template_areas": null,
      "grid_template_columns": null,
      "grid_template_rows": null,
      "height": null,
      "justify_content": null,
      "justify_items": null,
      "left": null,
      "margin": null,
      "max_height": null,
      "max_width": null,
      "min_height": null,
      "min_width": null,
      "object_fit": null,
      "object_position": null,
      "order": null,
      "overflow": null,
      "overflow_x": null,
      "overflow_y": null,
      "padding": null,
      "right": null,
      "top": null,
      "visibility": null,
      "width": null
     }
    },
    "54a731c45668477cb9ec46996f76db1e": {
     "model_module": "@jupyter-widgets/controls",
     "model_name": "ProgressStyleModel",
     "state": {
      "_model_module": "@jupyter-widgets/controls",
      "_model_module_version": "1.5.0",
      "_model_name": "ProgressStyleModel",
      "_view_count": null,
      "_view_module": "@jupyter-widgets/base",
      "_view_module_version": "1.2.0",
      "_view_name": "StyleView",
      "bar_color": null,
      "description_width": "initial"
     }
    },
    "57a5189702034e4881e601dc284d78e6": {
     "model_module": "@jupyter-widgets/controls",
     "model_name": "HBoxModel",
     "state": {
      "_dom_classes": [],
      "_model_module": "@jupyter-widgets/controls",
      "_model_module_version": "1.5.0",
      "_model_name": "HBoxModel",
      "_view_count": null,
      "_view_module": "@jupyter-widgets/controls",
      "_view_module_version": "1.5.0",
      "_view_name": "HBoxView",
      "box_style": "",
      "children": [
       "IPY_MODEL_e3443488b1c54b3592db83cc17b47352",
       "IPY_MODEL_77c5ad309e6e4776a6ee557bc9e27d0b"
      ],
      "layout": "IPY_MODEL_f96a27031a5e414aa57d7b04f01a4864"
     }
    },
    "5ec941131b664fba8646c28d9fbd0926": {
     "model_module": "@jupyter-widgets/base",
     "model_name": "LayoutModel",
     "state": {
      "_model_module": "@jupyter-widgets/base",
      "_model_module_version": "1.2.0",
      "_model_name": "LayoutModel",
      "_view_count": null,
      "_view_module": "@jupyter-widgets/base",
      "_view_module_version": "1.2.0",
      "_view_name": "LayoutView",
      "align_content": null,
      "align_items": null,
      "align_self": null,
      "border": null,
      "bottom": null,
      "display": null,
      "flex": null,
      "flex_flow": null,
      "grid_area": null,
      "grid_auto_columns": null,
      "grid_auto_flow": null,
      "grid_auto_rows": null,
      "grid_column": null,
      "grid_gap": null,
      "grid_row": null,
      "grid_template_areas": null,
      "grid_template_columns": null,
      "grid_template_rows": null,
      "height": null,
      "justify_content": null,
      "justify_items": null,
      "left": null,
      "margin": null,
      "max_height": null,
      "max_width": null,
      "min_height": null,
      "min_width": null,
      "object_fit": null,
      "object_position": null,
      "order": null,
      "overflow": null,
      "overflow_x": null,
      "overflow_y": null,
      "padding": null,
      "right": null,
      "top": null,
      "visibility": null,
      "width": null
     }
    },
    "77c5ad309e6e4776a6ee557bc9e27d0b": {
     "model_module": "@jupyter-widgets/controls",
     "model_name": "HTMLModel",
     "state": {
      "_dom_classes": [],
      "_model_module": "@jupyter-widgets/controls",
      "_model_module_version": "1.5.0",
      "_model_name": "HTMLModel",
      "_view_count": null,
      "_view_module": "@jupyter-widgets/controls",
      "_view_module_version": "1.5.0",
      "_view_name": "HTMLView",
      "description": "",
      "description_tooltip": null,
      "layout": "IPY_MODEL_c071bd2db6524e2ea45ef3e904db384b",
      "placeholder": "​",
      "style": "IPY_MODEL_7cf31bd962cf4041ab766b2782046021",
      "value": " 0/4542 [00:00&lt;?, ?it/s]"
     }
    },
    "7a5abb2e55e94ffc8eae8d1203abc284": {
     "model_module": "@jupyter-widgets/controls",
     "model_name": "ProgressStyleModel",
     "state": {
      "_model_module": "@jupyter-widgets/controls",
      "_model_module_version": "1.5.0",
      "_model_name": "ProgressStyleModel",
      "_view_count": null,
      "_view_module": "@jupyter-widgets/base",
      "_view_module_version": "1.2.0",
      "_view_name": "StyleView",
      "bar_color": null,
      "description_width": "initial"
     }
    },
    "7bcabf42199240fe9f24339fab2f2676": {
     "model_module": "@jupyter-widgets/controls",
     "model_name": "DescriptionStyleModel",
     "state": {
      "_model_module": "@jupyter-widgets/controls",
      "_model_module_version": "1.5.0",
      "_model_name": "DescriptionStyleModel",
      "_view_count": null,
      "_view_module": "@jupyter-widgets/base",
      "_view_module_version": "1.2.0",
      "_view_name": "StyleView",
      "description_width": ""
     }
    },
    "7cf31bd962cf4041ab766b2782046021": {
     "model_module": "@jupyter-widgets/controls",
     "model_name": "DescriptionStyleModel",
     "state": {
      "_model_module": "@jupyter-widgets/controls",
      "_model_module_version": "1.5.0",
      "_model_name": "DescriptionStyleModel",
      "_view_count": null,
      "_view_module": "@jupyter-widgets/base",
      "_view_module_version": "1.2.0",
      "_view_name": "StyleView",
      "description_width": ""
     }
    },
    "8940e784824d4519b3e9be78b398f55c": {
     "model_module": "@jupyter-widgets/controls",
     "model_name": "HTMLModel",
     "state": {
      "_dom_classes": [],
      "_model_module": "@jupyter-widgets/controls",
      "_model_module_version": "1.5.0",
      "_model_name": "HTMLModel",
      "_view_count": null,
      "_view_module": "@jupyter-widgets/controls",
      "_view_module_version": "1.5.0",
      "_view_name": "HTMLView",
      "description": "",
      "description_tooltip": null,
      "layout": "IPY_MODEL_5371a842cd1d4f52876a1f7f144be27d",
      "placeholder": "​",
      "style": "IPY_MODEL_ded3b3c551d4408ab9ed4ced6cc7443e",
      "value": " 1654784/? [00:19&lt;00:00, 9134389.03it/s]"
     }
    },
    "906ece4751e1425f898f9726b5c40299": {
     "model_module": "@jupyter-widgets/controls",
     "model_name": "DescriptionStyleModel",
     "state": {
      "_model_module": "@jupyter-widgets/controls",
      "_model_module_version": "1.5.0",
      "_model_name": "DescriptionStyleModel",
      "_view_count": null,
      "_view_module": "@jupyter-widgets/base",
      "_view_module_version": "1.2.0",
      "_view_name": "StyleView",
      "description_width": ""
     }
    },
    "97f5dec1811c4f2fb6634dff74d992f0": {
     "model_module": "@jupyter-widgets/controls",
     "model_name": "HBoxModel",
     "state": {
      "_dom_classes": [],
      "_model_module": "@jupyter-widgets/controls",
      "_model_module_version": "1.5.0",
      "_model_name": "HBoxModel",
      "_view_count": null,
      "_view_module": "@jupyter-widgets/controls",
      "_view_module_version": "1.5.0",
      "_view_name": "HBoxView",
      "box_style": "",
      "children": [
       "IPY_MODEL_45062c6e9ccb4a59b7214c9e389f174e",
       "IPY_MODEL_0e75bba3a66a4717ac8871d52550417b"
      ],
      "layout": "IPY_MODEL_4c1add8b2de24f47b0c081ab3afb623b"
     }
    },
    "9ee1439b932748fba986cd0c19d7af23": {
     "model_module": "@jupyter-widgets/controls",
     "model_name": "HTMLModel",
     "state": {
      "_dom_classes": [],
      "_model_module": "@jupyter-widgets/controls",
      "_model_module_version": "1.5.0",
      "_model_name": "HTMLModel",
      "_view_count": null,
      "_view_module": "@jupyter-widgets/controls",
      "_view_module_version": "1.5.0",
      "_view_name": "HTMLView",
      "description": "",
      "description_tooltip": null,
      "layout": "IPY_MODEL_4b83fcaebd6e486fa13fdc5fc1f3b610",
      "placeholder": "​",
      "style": "IPY_MODEL_7bcabf42199240fe9f24339fab2f2676",
      "value": " 9920512/? [00:19&lt;00:00, 9357072.12it/s]"
     }
    },
    "a40fdb0e9ba1423e8fc57cb0557f92e7": {
     "model_module": "@jupyter-widgets/base",
     "model_name": "LayoutModel",
     "state": {
      "_model_module": "@jupyter-widgets/base",
      "_model_module_version": "1.2.0",
      "_model_name": "LayoutModel",
      "_view_count": null,
      "_view_module": "@jupyter-widgets/base",
      "_view_module_version": "1.2.0",
      "_view_name": "LayoutView",
      "align_content": null,
      "align_items": null,
      "align_self": null,
      "border": null,
      "bottom": null,
      "display": null,
      "flex": null,
      "flex_flow": null,
      "grid_area": null,
      "grid_auto_columns": null,
      "grid_auto_flow": null,
      "grid_auto_rows": null,
      "grid_column": null,
      "grid_gap": null,
      "grid_row": null,
      "grid_template_areas": null,
      "grid_template_columns": null,
      "grid_template_rows": null,
      "height": null,
      "justify_content": null,
      "justify_items": null,
      "left": null,
      "margin": null,
      "max_height": null,
      "max_width": null,
      "min_height": null,
      "min_width": null,
      "object_fit": null,
      "object_position": null,
      "order": null,
      "overflow": null,
      "overflow_x": null,
      "overflow_y": null,
      "padding": null,
      "right": null,
      "top": null,
      "visibility": null,
      "width": null
     }
    },
    "a596148c27dc432db3bca53063bb8563": {
     "model_module": "@jupyter-widgets/base",
     "model_name": "LayoutModel",
     "state": {
      "_model_module": "@jupyter-widgets/base",
      "_model_module_version": "1.2.0",
      "_model_name": "LayoutModel",
      "_view_count": null,
      "_view_module": "@jupyter-widgets/base",
      "_view_module_version": "1.2.0",
      "_view_name": "LayoutView",
      "align_content": null,
      "align_items": null,
      "align_self": null,
      "border": null,
      "bottom": null,
      "display": null,
      "flex": null,
      "flex_flow": null,
      "grid_area": null,
      "grid_auto_columns": null,
      "grid_auto_flow": null,
      "grid_auto_rows": null,
      "grid_column": null,
      "grid_gap": null,
      "grid_row": null,
      "grid_template_areas": null,
      "grid_template_columns": null,
      "grid_template_rows": null,
      "height": null,
      "justify_content": null,
      "justify_items": null,
      "left": null,
      "margin": null,
      "max_height": null,
      "max_width": null,
      "min_height": null,
      "min_width": null,
      "object_fit": null,
      "object_position": null,
      "order": null,
      "overflow": null,
      "overflow_x": null,
      "overflow_y": null,
      "padding": null,
      "right": null,
      "top": null,
      "visibility": null,
      "width": null
     }
    },
    "a83ac4061d2741cfa5736d49bae4a78c": {
     "model_module": "@jupyter-widgets/controls",
     "model_name": "ProgressStyleModel",
     "state": {
      "_model_module": "@jupyter-widgets/controls",
      "_model_module_version": "1.5.0",
      "_model_name": "ProgressStyleModel",
      "_view_count": null,
      "_view_module": "@jupyter-widgets/base",
      "_view_module_version": "1.2.0",
      "_view_name": "StyleView",
      "bar_color": null,
      "description_width": "initial"
     }
    },
    "ad1d1772fa81463cb266867b5d2d5e5c": {
     "model_module": "@jupyter-widgets/base",
     "model_name": "LayoutModel",
     "state": {
      "_model_module": "@jupyter-widgets/base",
      "_model_module_version": "1.2.0",
      "_model_name": "LayoutModel",
      "_view_count": null,
      "_view_module": "@jupyter-widgets/base",
      "_view_module_version": "1.2.0",
      "_view_name": "LayoutView",
      "align_content": null,
      "align_items": null,
      "align_self": null,
      "border": null,
      "bottom": null,
      "display": null,
      "flex": null,
      "flex_flow": null,
      "grid_area": null,
      "grid_auto_columns": null,
      "grid_auto_flow": null,
      "grid_auto_rows": null,
      "grid_column": null,
      "grid_gap": null,
      "grid_row": null,
      "grid_template_areas": null,
      "grid_template_columns": null,
      "grid_template_rows": null,
      "height": null,
      "justify_content": null,
      "justify_items": null,
      "left": null,
      "margin": null,
      "max_height": null,
      "max_width": null,
      "min_height": null,
      "min_width": null,
      "object_fit": null,
      "object_position": null,
      "order": null,
      "overflow": null,
      "overflow_x": null,
      "overflow_y": null,
      "padding": null,
      "right": null,
      "top": null,
      "visibility": null,
      "width": null
     }
    },
    "c071bd2db6524e2ea45ef3e904db384b": {
     "model_module": "@jupyter-widgets/base",
     "model_name": "LayoutModel",
     "state": {
      "_model_module": "@jupyter-widgets/base",
      "_model_module_version": "1.2.0",
      "_model_name": "LayoutModel",
      "_view_count": null,
      "_view_module": "@jupyter-widgets/base",
      "_view_module_version": "1.2.0",
      "_view_name": "LayoutView",
      "align_content": null,
      "align_items": null,
      "align_self": null,
      "border": null,
      "bottom": null,
      "display": null,
      "flex": null,
      "flex_flow": null,
      "grid_area": null,
      "grid_auto_columns": null,
      "grid_auto_flow": null,
      "grid_auto_rows": null,
      "grid_column": null,
      "grid_gap": null,
      "grid_row": null,
      "grid_template_areas": null,
      "grid_template_columns": null,
      "grid_template_rows": null,
      "height": null,
      "justify_content": null,
      "justify_items": null,
      "left": null,
      "margin": null,
      "max_height": null,
      "max_width": null,
      "min_height": null,
      "min_width": null,
      "object_fit": null,
      "object_position": null,
      "order": null,
      "overflow": null,
      "overflow_x": null,
      "overflow_y": null,
      "padding": null,
      "right": null,
      "top": null,
      "visibility": null,
      "width": null
     }
    },
    "d1f4382ac4a442be9451be2aaa133ac4": {
     "model_module": "@jupyter-widgets/base",
     "model_name": "LayoutModel",
     "state": {
      "_model_module": "@jupyter-widgets/base",
      "_model_module_version": "1.2.0",
      "_model_name": "LayoutModel",
      "_view_count": null,
      "_view_module": "@jupyter-widgets/base",
      "_view_module_version": "1.2.0",
      "_view_name": "LayoutView",
      "align_content": null,
      "align_items": null,
      "align_self": null,
      "border": null,
      "bottom": null,
      "display": null,
      "flex": null,
      "flex_flow": null,
      "grid_area": null,
      "grid_auto_columns": null,
      "grid_auto_flow": null,
      "grid_auto_rows": null,
      "grid_column": null,
      "grid_gap": null,
      "grid_row": null,
      "grid_template_areas": null,
      "grid_template_columns": null,
      "grid_template_rows": null,
      "height": null,
      "justify_content": null,
      "justify_items": null,
      "left": null,
      "margin": null,
      "max_height": null,
      "max_width": null,
      "min_height": null,
      "min_width": null,
      "object_fit": null,
      "object_position": null,
      "order": null,
      "overflow": null,
      "overflow_x": null,
      "overflow_y": null,
      "padding": null,
      "right": null,
      "top": null,
      "visibility": null,
      "width": null
     }
    },
    "ded3b3c551d4408ab9ed4ced6cc7443e": {
     "model_module": "@jupyter-widgets/controls",
     "model_name": "DescriptionStyleModel",
     "state": {
      "_model_module": "@jupyter-widgets/controls",
      "_model_module_version": "1.5.0",
      "_model_name": "DescriptionStyleModel",
      "_view_count": null,
      "_view_module": "@jupyter-widgets/base",
      "_view_module_version": "1.2.0",
      "_view_name": "StyleView",
      "description_width": ""
     }
    },
    "e3443488b1c54b3592db83cc17b47352": {
     "model_module": "@jupyter-widgets/controls",
     "model_name": "FloatProgressModel",
     "state": {
      "_dom_classes": [],
      "_model_module": "@jupyter-widgets/controls",
      "_model_module_version": "1.5.0",
      "_model_name": "FloatProgressModel",
      "_view_count": null,
      "_view_module": "@jupyter-widgets/controls",
      "_view_module_version": "1.5.0",
      "_view_name": "ProgressView",
      "bar_style": "info",
      "description": "  0%",
      "description_tooltip": null,
      "layout": "IPY_MODEL_5ec941131b664fba8646c28d9fbd0926",
      "max": 1,
      "min": 0,
      "orientation": "horizontal",
      "style": "IPY_MODEL_37dc286204864145bd49769288d9c982",
      "value": 0
     }
    },
    "f702791a79a74d04825cbf8cb77763fb": {
     "model_module": "@jupyter-widgets/base",
     "model_name": "LayoutModel",
     "state": {
      "_model_module": "@jupyter-widgets/base",
      "_model_module_version": "1.2.0",
      "_model_name": "LayoutModel",
      "_view_count": null,
      "_view_module": "@jupyter-widgets/base",
      "_view_module_version": "1.2.0",
      "_view_name": "LayoutView",
      "align_content": null,
      "align_items": null,
      "align_self": null,
      "border": null,
      "bottom": null,
      "display": null,
      "flex": null,
      "flex_flow": null,
      "grid_area": null,
      "grid_auto_columns": null,
      "grid_auto_flow": null,
      "grid_auto_rows": null,
      "grid_column": null,
      "grid_gap": null,
      "grid_row": null,
      "grid_template_areas": null,
      "grid_template_columns": null,
      "grid_template_rows": null,
      "height": null,
      "justify_content": null,
      "justify_items": null,
      "left": null,
      "margin": null,
      "max_height": null,
      "max_width": null,
      "min_height": null,
      "min_width": null,
      "object_fit": null,
      "object_position": null,
      "order": null,
      "overflow": null,
      "overflow_x": null,
      "overflow_y": null,
      "padding": null,
      "right": null,
      "top": null,
      "visibility": null,
      "width": null
     }
    },
    "f96a27031a5e414aa57d7b04f01a4864": {
     "model_module": "@jupyter-widgets/base",
     "model_name": "LayoutModel",
     "state": {
      "_model_module": "@jupyter-widgets/base",
      "_model_module_version": "1.2.0",
      "_model_name": "LayoutModel",
      "_view_count": null,
      "_view_module": "@jupyter-widgets/base",
      "_view_module_version": "1.2.0",
      "_view_name": "LayoutView",
      "align_content": null,
      "align_items": null,
      "align_self": null,
      "border": null,
      "bottom": null,
      "display": null,
      "flex": null,
      "flex_flow": null,
      "grid_area": null,
      "grid_auto_columns": null,
      "grid_auto_flow": null,
      "grid_auto_rows": null,
      "grid_column": null,
      "grid_gap": null,
      "grid_row": null,
      "grid_template_areas": null,
      "grid_template_columns": null,
      "grid_template_rows": null,
      "height": null,
      "justify_content": null,
      "justify_items": null,
      "left": null,
      "margin": null,
      "max_height": null,
      "max_width": null,
      "min_height": null,
      "min_width": null,
      "object_fit": null,
      "object_position": null,
      "order": null,
      "overflow": null,
      "overflow_x": null,
      "overflow_y": null,
      "padding": null,
      "right": null,
      "top": null,
      "visibility": null,
      "width": null
     }
    }
   }
  }
 },
 "nbformat": 4,
 "nbformat_minor": 1
}
