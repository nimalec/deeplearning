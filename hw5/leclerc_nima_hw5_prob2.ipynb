{
  "nbformat": 4,
  "nbformat_minor": 0,
  "metadata": {
    "colab": {
      "name": "leclerc_nima_hw5_prob2.ipynb",
      "provenance": [],
      "collapsed_sections": []
    },
    "kernelspec": {
      "name": "python3",
      "display_name": "Python 3"
    }
  },
  "cells": [
    {
      "cell_type": "code",
      "metadata": {
        "id": "4EUhOi5Y1CBt"
      },
      "source": [
        "from torchvision.datasets import MNIST\n",
        "from torch.utils.data import TensorDataset, DataLoader\n",
        "import torch\n",
        "import tensorflow \n",
        "from tensorflow.keras.datasets import mnist\n",
        "from torch import nn\n",
        "from torch import optim\n",
        "import numpy as np\n",
        "import matplotlib.pylab as plt\n",
        "import cv2"
      ],
      "execution_count": 67,
      "outputs": []
    },
    {
      "cell_type": "markdown",
      "metadata": {
        "id": "osmwkYtCmhoP"
      },
      "source": [
        "(a) Preprocess Data"
      ]
    },
    {
      "cell_type": "code",
      "metadata": {
        "colab": {
          "base_uri": "https://localhost:8080/"
        },
        "id": "FBNpNdFjeUYr",
        "outputId": "3452326e-0d48-4908-baf0-89269985fee3"
      },
      "source": [
        "(X_train, Y_train), (X_test, Y_test) = mnist.load_data() \n",
        "train_idx_0 = np.argwhere(Y_train==0)\n",
        "train_idx_1 = np.argwhere(Y_train==1)\n",
        "train_idx_2 = np.argwhere(Y_train==2)\n",
        "train_idx_3 = np.argwhere(Y_train==3)\n",
        "train_idx_4 = np.argwhere(Y_train==4)\n",
        "train_idx_5 = np.argwhere(Y_train==5)\n",
        "train_idx_6 = np.argwhere(Y_train==6)\n",
        "train_idx_7 = np.argwhere(Y_train==7)\n",
        "train_idx_8 = np.argwhere(Y_train==8)\n",
        "train_idx_9 = np.argwhere(Y_train==9)\n",
        "\n",
        "x_train = [] \n",
        "\n",
        "\n",
        "for i in range(1000):\n",
        "  idx = train_idx_0[i][0]\n",
        "  temp = cv2.resize(X_train[idx], (14,14))\n",
        "  x_train.append(temp.flatten())\n",
        "\n",
        "\n",
        "for i in range(1000):\n",
        "  idx = train_idx_1[i][0]\n",
        "  temp = cv2.resize(X_train[idx], (14,14))\n",
        "  x_train.append(temp.flatten())\n",
        "\n",
        "\n",
        "for i in range(1000):\n",
        "  idx = train_idx_2[i][0]\n",
        "  temp = cv2.resize(X_train[idx], (14,14))\n",
        "  x_train.append(temp.flatten())\n",
        "\n",
        "\n",
        "for i in range(1000):\n",
        "  idx = train_idx_3[i][0]\n",
        "  temp = cv2.resize(X_train[idx], (14,14))\n",
        "  x_train.append(temp.flatten())\n",
        "\n",
        "\n",
        "for i in range(1000):\n",
        "  idx = train_idx_4[i][0]\n",
        "  temp = cv2.resize(X_train[idx], (14,14))\n",
        "  x_train.append(temp.flatten())\n",
        "\n",
        "\n",
        "for i in range(1000):\n",
        "  idx = train_idx_5[i][0]\n",
        "  temp = cv2.resize(X_train[idx], (14,14))\n",
        "  x_train.append(temp.flatten())\n",
        "\n",
        "for i in range(1000):\n",
        "  idx = train_idx_6[i][0]\n",
        "  temp = cv2.resize(X_train[idx], (14,14))\n",
        "  x_train.append(temp.flatten())\n",
        "\n",
        "\n",
        "for i in range(1000):\n",
        "  idx = train_idx_7[i][0]\n",
        "  temp = cv2.resize(X_train[idx], (14,14))\n",
        "  x_train.append(temp.flatten())\n",
        "\n",
        "\n",
        "for i in range(1000):\n",
        "  idx = train_idx_8[i][0]\n",
        "  temp = cv2.resize(X_train[idx], (14,14))\n",
        "  x_train.append(temp.flatten())\n",
        "\n",
        "\n",
        "for i in range(1000):\n",
        "  idx = train_idx_9[i][0]\n",
        "  temp = cv2.resize(X_train[idx], (14,14))\n",
        "  x_train.append(temp.flatten())\n",
        "\n",
        "\n",
        "x_train = np.array(x_train)\n",
        "idx_train=np.array(range(len(y_train)))\n",
        "np.random.shuffle(idx_train)\n",
        "\n",
        "x_tr = []\n",
        "for i in range(len(idx_train)):\n",
        "  x_tr.append(x_train[idx_train[i]].flatten())\n",
        "x_tr = np.nan_to_num(np.array(x_tr)/np.sum(x_tr,axis=0)) \n",
        "\n",
        "pix_gr128_tr = x_tr > 128\n",
        "pix_l128_tr = x_tr <= 128\n",
        "idx_pix_gr128_tr = np.where(pix_gr128_tr== True)\n",
        "idx_pix_l128_tr  = np.where(pix_l128_tr == True)\n",
        "x_tr[idx_pix_gr128_tr] = 1.0\n",
        "x_tr[idx_pix_l128_tr] = 0.0 \n",
        "x_tr = torch.from_numpy(x_tr)\n",
        "y_tr = torch.zeros(10000, 10)\n",
        "train_data = TensorDataset(x_tr.float(),y_tr)\n"
      ],
      "execution_count": 68,
      "outputs": [
        {
          "output_type": "stream",
          "text": [
            "/usr/local/lib/python3.6/dist-packages/ipykernel_launcher.py:82: RuntimeWarning: invalid value encountered in true_divide\n"
          ],
          "name": "stderr"
        }
      ]
    },
    {
      "cell_type": "markdown",
      "metadata": {
        "id": "FiATf51_mk8v"
      },
      "source": [
        "**Problem 2**"
      ]
    },
    {
      "cell_type": "markdown",
      "metadata": {
        "id": "63Gh-8_ampfm"
      },
      "source": [
        "(b) Train Model"
      ]
    },
    {
      "cell_type": "markdown",
      "metadata": {
        "id": "8w44eDymmpVk"
      },
      "source": [
        ""
      ]
    },
    {
      "cell_type": "code",
      "metadata": {
        "id": "00ZtLKtkJK8A"
      },
      "source": [
        "class BernoulliVector():\n",
        "    def __init__(self, logits):\n",
        "        self.logits = logits\n",
        "\n",
        "    def log_prob(self, x):\n",
        "        pixelwise_log_probs = (\n",
        "            x * (self.logits - nn.functional.softplus(self.logits))\n",
        "            - (1 - x) * nn.functional.softplus(self.logits)\n",
        "        )\n",
        "        return pixelwise_log_probs.sum(1)\n",
        "    \n",
        "    def sample(self):\n",
        "        samples = (\n",
        "            torch.sigmoid(self.logits)\n",
        "            >= torch.rand_like(self.logits))\n",
        "        return samples"
      ],
      "execution_count": 69,
      "outputs": []
    },
    {
      "cell_type": "code",
      "metadata": {
        "id": "pAK8Q0ZHJRbo"
      },
      "source": [
        "class MultivariateNormalDiag():\n",
        "    def __init__(self, loc=None, scale=None):\n",
        "        self.loc = loc\n",
        "        self.scale = scale\n",
        "        \n",
        "    def log_prob(self, z):\n",
        "        normalization_constant = (\n",
        "            - self.scale.log()\n",
        "            - 0.5 * np.log(2 * np.pi))\n",
        "        square_term = -0.5 * ((z - self.loc) / self.scale) ** 2\n",
        "        log_prob_vec = normalization_constant + square_term\n",
        "        return log_prob_vec.sum(1)\n",
        "        \n",
        "    def sample(self):\n",
        "        z = self.loc + self.scale * torch.randn_like(self.scale)\n",
        "        return z"
      ],
      "execution_count": 70,
      "outputs": []
    },
    {
      "cell_type": "code",
      "metadata": {
        "id": "kQmQqodLJTLQ"
      },
      "source": [
        "d, nh, D = 8, 128, 196\n",
        "\n",
        "enc = nn.Sequential(\n",
        "    nn.Linear(D, nh),\n",
        "    nn.Tanh(),\n",
        "    nn.Linear(nh, 2*d)) \n",
        "\n",
        "dec = nn.Sequential(\n",
        "    nn.Linear(d, nh),\n",
        "    nn.Tanh(),\n",
        "    nn.Linear(nh, D)) "
      ],
      "execution_count": 71,
      "outputs": []
    },
    {
      "cell_type": "code",
      "metadata": {
        "id": "p1jiMPfyKPoH"
      },
      "source": [
        "def loss(x, encoder, decoder):\n",
        "    # encoder\n",
        "    q_loc_scale = encoder(x)\n",
        "    qz_x = MultivariateNormalDiag(q_loc_scale[:, :d],\n",
        "                                  nn.functional.softplus(q_loc_scale[:, d:]) + 1e-5)\n",
        "    z_1 = qz_x.sample()\n",
        "    z_2 = qz_x.sample()\n",
        "    pz = MultivariateNormalDiag(torch.zeros_like(z_1), torch.ones_like(z_1))\n",
        "    pz1_log = decoder(z_1)\n",
        "    pz2_log = decoder(z_2)   \n",
        "    px_z1 = BernoulliVector(pz1_log)\n",
        "    px_z2 = BernoulliVector(pz2_log)\n",
        "    comb_z1_z1 = torch.cat((px_z1.log_prob(x), px_z2.log_prob(x)), 0)\n",
        "    comb_mean = comb_z1_z1.mean()      \n",
        "    sample_1 = pz.log_prob(z_1) - qz_x.log_prob(z_1)\n",
        "    sample_2 = pz.log_prob(z_2) - qz_x.log_prob(z_2) \n",
        "    comb_sample_mean = (torch.cat((sample_1, sample_2), 0)).mean()\n",
        "    loss =  comb_mean+comb_sample_mean\n",
        "    return loss, comb_mean, comb_sample_mean\n"
      ],
      "execution_count": 77,
      "outputs": []
    },
    {
      "cell_type": "code",
      "metadata": {
        "id": "m_6RbGEzKQHv"
      },
      "source": [
        "from itertools import chain\n",
        "def train_model(encoder, decoder, batch_size=100, num_epochs=3, learning_rate=1e-3):\n",
        "    gd = optim.Adam(chain(encoder.parameters(), decoder.parameters()), lr=learning_rate)\n",
        "    dataloader = DataLoader(train_data, batch_size=batch_size, shuffle=True)\n",
        "    train_losses = []\n",
        "    term1 = [] \n",
        "    term2 = [] \n",
        "\n",
        "    for _ in range(num_epochs):\n",
        "        for i, (batch, _) in enumerate(dataloader):\n",
        "            total = len(dataloader)\n",
        "            loss_value, term_1, term_2 = loss(batch, encoder, decoder)\n",
        "            (-loss_value).backward()\n",
        "            train_losses.append(loss_value.cpu().item())\n",
        "            term1.append(term_1.cpu().item())\n",
        "            term2.append(term_2.cpu().item())\n",
        "            if (i + 1) % 10 == 0:\n",
        "                print('\\rTrain loss:', train_losses[-1],\n",
        "                      'Batch', i + 1, 'of', total, ' ' * 10, end='', flush=True)\n",
        "            gd.step()\n",
        "            gd.zero_grad()\n",
        "    return term1, term2  "
      ],
      "execution_count": 83,
      "outputs": []
    },
    {
      "cell_type": "markdown",
      "metadata": {
        "id": "rjJQDQzyo3kv"
      },
      "source": [
        "Training the model of 16 epochs. "
      ]
    },
    {
      "cell_type": "code",
      "metadata": {
        "id": "zuXLsQb31VyB",
        "colab": {
          "base_uri": "https://localhost:8080/"
        },
        "outputId": "e1402de0-b562-492e-c598-cdf18ae1bf3d"
      },
      "source": [
        "term1, term2 = train_model(enc, dec, num_epochs=100)"
      ],
      "execution_count": 85,
      "outputs": [
        {
          "output_type": "stream",
          "text": [
            "Train loss: -0.010220290161669254 Batch 100 of 100           "
          ],
          "name": "stdout"
        }
      ]
    },
    {
      "cell_type": "markdown",
      "metadata": {
        "id": "lOjj0vG6pMz6"
      },
      "source": [
        "(c) Plot two terms in loss. "
      ]
    },
    {
      "cell_type": "code",
      "metadata": {
        "colab": {
          "base_uri": "https://localhost:8080/",
          "height": 324
        },
        "id": "sW9FuX5CpRjB",
        "outputId": "321696d7-6d3a-4cad-ad45-6150a326f182"
      },
      "source": [
        "import matplotlib.pyplot as plt\n",
        "\n",
        "plt.plot(term1, label = 'Term 1')\n",
        "plt.xlabel('Number of Weight Updates')\n",
        "plt.ylabel('Reconstruction Loss')\n",
        "plt.legend()\n",
        "plt.figure()"
      ],
      "execution_count": 87,
      "outputs": [
        {
          "output_type": "execute_result",
          "data": {
            "text/plain": [
              "<Figure size 432x288 with 0 Axes>"
            ]
          },
          "metadata": {
            "tags": []
          },
          "execution_count": 87
        },
        {
          "output_type": "display_data",
          "data": {
            "image/png": "[encoded data removed]",
            "text/plain": [
              "<Figure size 432x288 with 1 Axes>"
            ]
          },
          "metadata": {
            "tags": [],
            "needs_background": "light"
          }
        },
        {
          "output_type": "display_data",
          "data": {
            "text/plain": [
              "<Figure size 432x288 with 0 Axes>"
            ]
          },
          "metadata": {
            "tags": []
          }
        }
      ]
    }
  ]
}